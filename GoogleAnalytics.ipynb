{
 "cells": [
  {
   "cell_type": "markdown",
   "metadata": {},
   "source": [
    "# Google Analytics EDA + Baseline Model¶"
   ]
  },
  {
   "cell_type": "code",
   "execution_count": 1,
   "metadata": {},
   "outputs": [
    {
     "data": {
      "text/html": [
       "        <script type=\"text/javascript\">\n",
       "        window.PlotlyConfig = {MathJaxConfig: 'local'};\n",
       "        if (window.MathJax) {MathJax.Hub.Config({SVG: {font: \"STIX-Web\"}});}\n",
       "        if (typeof require !== 'undefined') {\n",
       "        require.undef(\"plotly\");\n",
       "        requirejs.config({\n",
       "            paths: {\n",
       "                'plotly': ['https://cdn.plot.ly/plotly-latest.min']\n",
       "            }\n",
       "        });\n",
       "        require(['plotly'], function(Plotly) {\n",
       "            window._Plotly = Plotly;\n",
       "        });\n",
       "        }\n",
       "        </script>\n",
       "        "
      ]
     },
     "metadata": {},
     "output_type": "display_data"
    }
   ],
   "source": [
    "import pickle\n",
    "#Import Section\n",
    "import numpy as np # linear algebra\n",
    "import pandas as pd # data processing, CSV file I/O (e.g. pd.read_csv)\n",
    "# Import matplotlib & seaborn for visualisation\n",
    "import json\n",
    "from pandas.io.json import json_normalize\n",
    "import seaborn as sns \n",
    "from plotly.offline import init_notebook_mode, iplot\n",
    "import plotly.graph_objs as go\n",
    "from plotly import tools\n",
    "import numpy as np\n",
    "init_notebook_mode(connected=True)\n",
    "import matplotlib as mpl\n",
    "import matplotlib.pyplot as plt\n",
    "%matplotlib inline\n",
    "import scipy.stats as st\n",
    "import missingno as msno\n",
    "import collections"
   ]
  },
  {
   "cell_type": "code",
   "execution_count": 2,
   "metadata": {},
   "outputs": [],
   "source": [
    "def flatten(d, parent_key='', sep='_'):\n",
    "    items = []\n",
    "    for k, v in d.items():\n",
    "        #print(k,v)\n",
    "        new_key = str(parent_key) + sep + k if parent_key else k\n",
    "        if isinstance(v, collections.MutableMapping):\n",
    "            items.extend(flatten(v, new_key, sep=sep).items())\n",
    "        else:\n",
    "            items.append((new_key, v))\n",
    "    return dict(items)"
   ]
  },
  {
   "cell_type": "code",
   "execution_count": 3,
   "metadata": {},
   "outputs": [],
   "source": [
    "def flatten_main(d, parent_key='', sep='_'):\n",
    "    items = {}\n",
    "    for k, v in d.items():\n",
    "        items[k]=flatten(v)\n",
    "    return items"
   ]
  },
  {
   "cell_type": "code",
   "execution_count": 4,
   "metadata": {},
   "outputs": [],
   "source": [
    "with open('ga_data.pickle', 'rb') as f:\n",
    "    data_new = pickle.load(f)[:].to_dict('index')"
   ]
  },
  {
   "cell_type": "markdown",
   "metadata": {},
   "source": [
    " for k, v in data_new.items():\n",
    "        for k1,v1 in v.items():\n",
    "            if k1=='hits' and len(v1)>1:\n",
    "                print(len(v1))\n",
    "                print(v['totals'])"
   ]
  },
  {
   "cell_type": "code",
   "execution_count": 5,
   "metadata": {},
   "outputs": [],
   "source": [
    "data_new_1=flatten_main(data_new)\n",
    "data_new=pd.DataFrame.from_dict(data_new_1, orient='index')"
   ]
  },
  {
   "cell_type": "code",
   "execution_count": 6,
   "metadata": {},
   "outputs": [
    {
     "data": {
      "text/plain": [
       "56553"
      ]
     },
     "execution_count": 6,
     "metadata": {},
     "output_type": "execute_result"
    }
   ],
   "source": [
    "sum(data_new['visitNumber']==1)"
   ]
  },
  {
   "cell_type": "code",
   "execution_count": 7,
   "metadata": {},
   "outputs": [],
   "source": [
    "msk = np.random.rand(len(data_new)) < 0.8\n",
    "train = data_new[msk]\n",
    "test = data_new[~msk]"
   ]
  },
  {
   "cell_type": "code",
   "execution_count": 8,
   "metadata": {},
   "outputs": [
    {
     "data": {
      "text/html": [
       "<div>\n",
       "<style scoped>\n",
       "    .dataframe tbody tr th:only-of-type {\n",
       "        vertical-align: middle;\n",
       "    }\n",
       "\n",
       "    .dataframe tbody tr th {\n",
       "        vertical-align: top;\n",
       "    }\n",
       "\n",
       "    .dataframe thead th {\n",
       "        text-align: right;\n",
       "    }\n",
       "</style>\n",
       "<table border=\"1\" class=\"dataframe\">\n",
       "  <thead>\n",
       "    <tr style=\"text-align: right;\">\n",
       "      <th></th>\n",
       "      <th>visitorId</th>\n",
       "      <th>visitNumber</th>\n",
       "      <th>visitId</th>\n",
       "      <th>visitStartTime</th>\n",
       "      <th>date</th>\n",
       "      <th>totals_visits</th>\n",
       "      <th>totals_hits</th>\n",
       "      <th>totals_pageviews</th>\n",
       "      <th>totals_timeOnSite</th>\n",
       "      <th>totals_bounces</th>\n",
       "      <th>...</th>\n",
       "      <th>geoNetwork_longitude</th>\n",
       "      <th>geoNetwork_networkLocation</th>\n",
       "      <th>customDimensions</th>\n",
       "      <th>hits</th>\n",
       "      <th>fullVisitorId</th>\n",
       "      <th>userId</th>\n",
       "      <th>clientId</th>\n",
       "      <th>channelGrouping</th>\n",
       "      <th>socialEngagementType</th>\n",
       "      <th>trafficSource_adwordsClickInfo_targetingCriteria_boomUserlistId</th>\n",
       "    </tr>\n",
       "  </thead>\n",
       "  <tbody>\n",
       "    <tr>\n",
       "      <th>0</th>\n",
       "      <td>None</td>\n",
       "      <td>1</td>\n",
       "      <td>1500126674</td>\n",
       "      <td>1500126674</td>\n",
       "      <td>20170715</td>\n",
       "      <td>1</td>\n",
       "      <td>1</td>\n",
       "      <td>1.0</td>\n",
       "      <td>NaN</td>\n",
       "      <td>1.0</td>\n",
       "      <td>...</td>\n",
       "      <td>not available in demo dataset</td>\n",
       "      <td>not available in demo dataset</td>\n",
       "      <td>[]</td>\n",
       "      <td>[{'hitNumber': 1, 'time': 0, 'hour': 6, 'minut...</td>\n",
       "      <td>6790377449422493910</td>\n",
       "      <td>None</td>\n",
       "      <td>None</td>\n",
       "      <td>Organic Search</td>\n",
       "      <td>Not Socially Engaged</td>\n",
       "      <td>NaN</td>\n",
       "    </tr>\n",
       "    <tr>\n",
       "      <th>1</th>\n",
       "      <td>None</td>\n",
       "      <td>1</td>\n",
       "      <td>1500143533</td>\n",
       "      <td>1500143533</td>\n",
       "      <td>20170715</td>\n",
       "      <td>1</td>\n",
       "      <td>1</td>\n",
       "      <td>1.0</td>\n",
       "      <td>NaN</td>\n",
       "      <td>1.0</td>\n",
       "      <td>...</td>\n",
       "      <td>not available in demo dataset</td>\n",
       "      <td>not available in demo dataset</td>\n",
       "      <td>[{'index': 4, 'value': 'EMEA'}]</td>\n",
       "      <td>[{'hitNumber': 1, 'time': 0, 'hour': 11, 'minu...</td>\n",
       "      <td>1431348163667504299</td>\n",
       "      <td>None</td>\n",
       "      <td>None</td>\n",
       "      <td>Organic Search</td>\n",
       "      <td>Not Socially Engaged</td>\n",
       "      <td>NaN</td>\n",
       "    </tr>\n",
       "    <tr>\n",
       "      <th>2</th>\n",
       "      <td>None</td>\n",
       "      <td>1</td>\n",
       "      <td>1500123204</td>\n",
       "      <td>1500123204</td>\n",
       "      <td>20170715</td>\n",
       "      <td>1</td>\n",
       "      <td>1</td>\n",
       "      <td>1.0</td>\n",
       "      <td>NaN</td>\n",
       "      <td>1.0</td>\n",
       "      <td>...</td>\n",
       "      <td>not available in demo dataset</td>\n",
       "      <td>not available in demo dataset</td>\n",
       "      <td>[{'index': 4, 'value': 'EMEA'}]</td>\n",
       "      <td>[{'hitNumber': 1, 'time': 0, 'hour': 5, 'minut...</td>\n",
       "      <td>5628749752915535966</td>\n",
       "      <td>None</td>\n",
       "      <td>None</td>\n",
       "      <td>Organic Search</td>\n",
       "      <td>Not Socially Engaged</td>\n",
       "      <td>NaN</td>\n",
       "    </tr>\n",
       "    <tr>\n",
       "      <th>3</th>\n",
       "      <td>None</td>\n",
       "      <td>1</td>\n",
       "      <td>1500120750</td>\n",
       "      <td>1500120750</td>\n",
       "      <td>20170715</td>\n",
       "      <td>1</td>\n",
       "      <td>1</td>\n",
       "      <td>1.0</td>\n",
       "      <td>NaN</td>\n",
       "      <td>1.0</td>\n",
       "      <td>...</td>\n",
       "      <td>not available in demo dataset</td>\n",
       "      <td>not available in demo dataset</td>\n",
       "      <td>[{'index': 4, 'value': 'EMEA'}]</td>\n",
       "      <td>[{'hitNumber': 1, 'time': 0, 'hour': 5, 'minut...</td>\n",
       "      <td>7721996906492012430</td>\n",
       "      <td>None</td>\n",
       "      <td>None</td>\n",
       "      <td>Organic Search</td>\n",
       "      <td>Not Socially Engaged</td>\n",
       "      <td>NaN</td>\n",
       "    </tr>\n",
       "    <tr>\n",
       "      <th>4</th>\n",
       "      <td>None</td>\n",
       "      <td>1</td>\n",
       "      <td>1500156541</td>\n",
       "      <td>1500156541</td>\n",
       "      <td>20170715</td>\n",
       "      <td>1</td>\n",
       "      <td>1</td>\n",
       "      <td>1.0</td>\n",
       "      <td>NaN</td>\n",
       "      <td>1.0</td>\n",
       "      <td>...</td>\n",
       "      <td>not available in demo dataset</td>\n",
       "      <td>not available in demo dataset</td>\n",
       "      <td>[{'index': 4, 'value': 'North America'}]</td>\n",
       "      <td>[{'hitNumber': 1, 'time': 0, 'hour': 15, 'minu...</td>\n",
       "      <td>2699850580029059099</td>\n",
       "      <td>None</td>\n",
       "      <td>None</td>\n",
       "      <td>Direct</td>\n",
       "      <td>Not Socially Engaged</td>\n",
       "      <td>NaN</td>\n",
       "    </tr>\n",
       "  </tbody>\n",
       "</table>\n",
       "<p>5 rows × 74 columns</p>\n",
       "</div>"
      ],
      "text/plain": [
       "  visitorId  visitNumber     visitId  visitStartTime      date  totals_visits  \\\n",
       "0      None            1  1500126674      1500126674  20170715              1   \n",
       "1      None            1  1500143533      1500143533  20170715              1   \n",
       "2      None            1  1500123204      1500123204  20170715              1   \n",
       "3      None            1  1500120750      1500120750  20170715              1   \n",
       "4      None            1  1500156541      1500156541  20170715              1   \n",
       "\n",
       "   totals_hits  totals_pageviews  totals_timeOnSite  totals_bounces  ...  \\\n",
       "0            1               1.0                NaN             1.0  ...   \n",
       "1            1               1.0                NaN             1.0  ...   \n",
       "2            1               1.0                NaN             1.0  ...   \n",
       "3            1               1.0                NaN             1.0  ...   \n",
       "4            1               1.0                NaN             1.0  ...   \n",
       "\n",
       "            geoNetwork_longitude     geoNetwork_networkLocation  \\\n",
       "0  not available in demo dataset  not available in demo dataset   \n",
       "1  not available in demo dataset  not available in demo dataset   \n",
       "2  not available in demo dataset  not available in demo dataset   \n",
       "3  not available in demo dataset  not available in demo dataset   \n",
       "4  not available in demo dataset  not available in demo dataset   \n",
       "\n",
       "                           customDimensions  \\\n",
       "0                                        []   \n",
       "1           [{'index': 4, 'value': 'EMEA'}]   \n",
       "2           [{'index': 4, 'value': 'EMEA'}]   \n",
       "3           [{'index': 4, 'value': 'EMEA'}]   \n",
       "4  [{'index': 4, 'value': 'North America'}]   \n",
       "\n",
       "                                                hits        fullVisitorId  \\\n",
       "0  [{'hitNumber': 1, 'time': 0, 'hour': 6, 'minut...  6790377449422493910   \n",
       "1  [{'hitNumber': 1, 'time': 0, 'hour': 11, 'minu...  1431348163667504299   \n",
       "2  [{'hitNumber': 1, 'time': 0, 'hour': 5, 'minut...  5628749752915535966   \n",
       "3  [{'hitNumber': 1, 'time': 0, 'hour': 5, 'minut...  7721996906492012430   \n",
       "4  [{'hitNumber': 1, 'time': 0, 'hour': 15, 'minu...  2699850580029059099   \n",
       "\n",
       "  userId  clientId  channelGrouping  socialEngagementType  \\\n",
       "0   None      None   Organic Search  Not Socially Engaged   \n",
       "1   None      None   Organic Search  Not Socially Engaged   \n",
       "2   None      None   Organic Search  Not Socially Engaged   \n",
       "3   None      None   Organic Search  Not Socially Engaged   \n",
       "4   None      None           Direct  Not Socially Engaged   \n",
       "\n",
       "  trafficSource_adwordsClickInfo_targetingCriteria_boomUserlistId  \n",
       "0                                                NaN               \n",
       "1                                                NaN               \n",
       "2                                                NaN               \n",
       "3                                                NaN               \n",
       "4                                                NaN               \n",
       "\n",
       "[5 rows x 74 columns]"
      ]
     },
     "execution_count": 8,
     "metadata": {},
     "output_type": "execute_result"
    }
   ],
   "source": [
    "train.head()"
   ]
  },
  {
   "cell_type": "code",
   "execution_count": 9,
   "metadata": {
    "scrolled": false
   },
   "outputs": [
    {
     "name": "stdout",
     "output_type": "stream",
     "text": [
      "<class 'pandas.core.frame.DataFrame'>\n",
      "Int64Index: 59481 entries, 0 to 74367\n",
      "Data columns (total 74 columns):\n",
      "visitorId                                                          0 non-null object\n",
      "visitNumber                                                        59481 non-null int64\n",
      "visitId                                                            59481 non-null int64\n",
      "visitStartTime                                                     59481 non-null int64\n",
      "date                                                               59481 non-null object\n",
      "totals_visits                                                      59481 non-null int64\n",
      "totals_hits                                                        59481 non-null int64\n",
      "totals_pageviews                                                   59469 non-null float64\n",
      "totals_timeOnSite                                                  29301 non-null float64\n",
      "totals_bounces                                                     30068 non-null float64\n",
      "totals_transactions                                                868 non-null float64\n",
      "totals_transactionRevenue                                          868 non-null float64\n",
      "totals_newVisits                                                   45250 non-null float64\n",
      "totals_screenviews                                                 0 non-null object\n",
      "totals_uniqueScreenviews                                           0 non-null object\n",
      "totals_timeOnScreen                                                0 non-null object\n",
      "totals_totalTransactionRevenue                                     868 non-null float64\n",
      "totals_sessionQualityDim                                           54698 non-null float64\n",
      "trafficSource_referralPath                                         14343 non-null object\n",
      "trafficSource_campaign                                             59481 non-null object\n",
      "trafficSource_source                                               59481 non-null object\n",
      "trafficSource_medium                                               59481 non-null object\n",
      "trafficSource_keyword                                              30564 non-null object\n",
      "trafficSource_adContent                                            536 non-null object\n",
      "trafficSource_adwordsClickInfo_campaignId                          0 non-null object\n",
      "trafficSource_adwordsClickInfo_adGroupId                           0 non-null object\n",
      "trafficSource_adwordsClickInfo_creativeId                          0 non-null object\n",
      "trafficSource_adwordsClickInfo_criteriaId                          0 non-null object\n",
      "trafficSource_adwordsClickInfo_page                                1632 non-null float64\n",
      "trafficSource_adwordsClickInfo_slot                                1632 non-null object\n",
      "trafficSource_adwordsClickInfo_criteriaParameters                  59481 non-null object\n",
      "trafficSource_adwordsClickInfo_gclId                               1633 non-null object\n",
      "trafficSource_adwordsClickInfo_customerId                          0 non-null object\n",
      "trafficSource_adwordsClickInfo_adNetworkType                       1632 non-null object\n",
      "trafficSource_adwordsClickInfo_targetingCriteria                   0 non-null float64\n",
      "trafficSource_adwordsClickInfo_isVideoAd                           1632 non-null object\n",
      "trafficSource_isTrueDirect                                         19652 non-null object\n",
      "trafficSource_campaignCode                                         0 non-null object\n",
      "device_browser                                                     59481 non-null object\n",
      "device_browserVersion                                              59481 non-null object\n",
      "device_browserSize                                                 59481 non-null object\n",
      "device_operatingSystem                                             59481 non-null object\n",
      "device_operatingSystemVersion                                      59481 non-null object\n",
      "device_isMobile                                                    59481 non-null bool\n",
      "device_mobileDeviceBranding                                        59481 non-null object\n",
      "device_mobileDeviceModel                                           59481 non-null object\n",
      "device_mobileInputSelector                                         59481 non-null object\n",
      "device_mobileDeviceInfo                                            59481 non-null object\n",
      "device_mobileDeviceMarketingName                                   59481 non-null object\n",
      "device_flashVersion                                                59481 non-null object\n",
      "device_javaEnabled                                                 0 non-null object\n",
      "device_language                                                    59481 non-null object\n",
      "device_screenColors                                                59481 non-null object\n",
      "device_screenResolution                                            59481 non-null object\n",
      "device_deviceCategory                                              59481 non-null object\n",
      "geoNetwork_continent                                               59481 non-null object\n",
      "geoNetwork_subContinent                                            59481 non-null object\n",
      "geoNetwork_country                                                 59481 non-null object\n",
      "geoNetwork_region                                                  59481 non-null object\n",
      "geoNetwork_metro                                                   59481 non-null object\n",
      "geoNetwork_city                                                    59481 non-null object\n",
      "geoNetwork_cityId                                                  59481 non-null object\n",
      "geoNetwork_networkDomain                                           59481 non-null object\n",
      "geoNetwork_latitude                                                59481 non-null object\n",
      "geoNetwork_longitude                                               59481 non-null object\n",
      "geoNetwork_networkLocation                                         59481 non-null object\n",
      "customDimensions                                                   59481 non-null object\n",
      "hits                                                               59481 non-null object\n",
      "fullVisitorId                                                      59481 non-null object\n",
      "userId                                                             0 non-null object\n",
      "clientId                                                           0 non-null object\n",
      "channelGrouping                                                    59481 non-null object\n",
      "socialEngagementType                                               59481 non-null object\n",
      "trafficSource_adwordsClickInfo_targetingCriteria_boomUserlistId    0 non-null float64\n",
      "dtypes: bool(1), float64(11), int64(5), object(57)\n",
      "memory usage: 33.6+ MB\n",
      "<class 'pandas.core.frame.DataFrame'>\n",
      "Int64Index: 14887 entries, 12 to 74358\n",
      "Data columns (total 74 columns):\n",
      "visitorId                                                          0 non-null object\n",
      "visitNumber                                                        14887 non-null int64\n",
      "visitId                                                            14887 non-null int64\n",
      "visitStartTime                                                     14887 non-null int64\n",
      "date                                                               14887 non-null object\n",
      "totals_visits                                                      14887 non-null int64\n",
      "totals_hits                                                        14887 non-null int64\n",
      "totals_pageviews                                                   14883 non-null float64\n",
      "totals_timeOnSite                                                  7293 non-null float64\n",
      "totals_bounces                                                     7578 non-null float64\n",
      "totals_transactions                                                206 non-null float64\n",
      "totals_transactionRevenue                                          206 non-null float64\n",
      "totals_newVisits                                                   11303 non-null float64\n",
      "totals_screenviews                                                 0 non-null object\n",
      "totals_uniqueScreenviews                                           0 non-null object\n",
      "totals_timeOnScreen                                                0 non-null object\n",
      "totals_totalTransactionRevenue                                     206 non-null float64\n",
      "totals_sessionQualityDim                                           13681 non-null float64\n",
      "trafficSource_referralPath                                         3573 non-null object\n",
      "trafficSource_campaign                                             14887 non-null object\n",
      "trafficSource_source                                               14887 non-null object\n",
      "trafficSource_medium                                               14887 non-null object\n",
      "trafficSource_keyword                                              7571 non-null object\n",
      "trafficSource_adContent                                            147 non-null object\n",
      "trafficSource_adwordsClickInfo_campaignId                          0 non-null object\n",
      "trafficSource_adwordsClickInfo_adGroupId                           0 non-null object\n",
      "trafficSource_adwordsClickInfo_creativeId                          0 non-null object\n",
      "trafficSource_adwordsClickInfo_criteriaId                          0 non-null object\n",
      "trafficSource_adwordsClickInfo_page                                426 non-null float64\n",
      "trafficSource_adwordsClickInfo_slot                                426 non-null object\n",
      "trafficSource_adwordsClickInfo_criteriaParameters                  14887 non-null object\n",
      "trafficSource_adwordsClickInfo_gclId                               426 non-null object\n",
      "trafficSource_adwordsClickInfo_customerId                          0 non-null object\n",
      "trafficSource_adwordsClickInfo_adNetworkType                       426 non-null object\n",
      "trafficSource_adwordsClickInfo_targetingCriteria                   0 non-null float64\n",
      "trafficSource_adwordsClickInfo_isVideoAd                           426 non-null object\n",
      "trafficSource_isTrueDirect                                         5044 non-null object\n",
      "trafficSource_campaignCode                                         0 non-null object\n",
      "device_browser                                                     14887 non-null object\n",
      "device_browserVersion                                              14887 non-null object\n",
      "device_browserSize                                                 14887 non-null object\n",
      "device_operatingSystem                                             14887 non-null object\n",
      "device_operatingSystemVersion                                      14887 non-null object\n",
      "device_isMobile                                                    14887 non-null bool\n",
      "device_mobileDeviceBranding                                        14887 non-null object\n",
      "device_mobileDeviceModel                                           14887 non-null object\n",
      "device_mobileInputSelector                                         14887 non-null object\n",
      "device_mobileDeviceInfo                                            14887 non-null object\n",
      "device_mobileDeviceMarketingName                                   14887 non-null object\n",
      "device_flashVersion                                                14887 non-null object\n",
      "device_javaEnabled                                                 0 non-null object\n",
      "device_language                                                    14887 non-null object\n",
      "device_screenColors                                                14887 non-null object\n",
      "device_screenResolution                                            14887 non-null object\n",
      "device_deviceCategory                                              14887 non-null object\n",
      "geoNetwork_continent                                               14887 non-null object\n",
      "geoNetwork_subContinent                                            14887 non-null object\n",
      "geoNetwork_country                                                 14887 non-null object\n",
      "geoNetwork_region                                                  14887 non-null object\n",
      "geoNetwork_metro                                                   14887 non-null object\n",
      "geoNetwork_city                                                    14887 non-null object\n",
      "geoNetwork_cityId                                                  14887 non-null object\n",
      "geoNetwork_networkDomain                                           14887 non-null object\n",
      "geoNetwork_latitude                                                14887 non-null object\n",
      "geoNetwork_longitude                                               14887 non-null object\n",
      "geoNetwork_networkLocation                                         14887 non-null object\n",
      "customDimensions                                                   14887 non-null object\n",
      "hits                                                               14887 non-null object\n",
      "fullVisitorId                                                      14887 non-null object\n",
      "userId                                                             0 non-null object\n",
      "clientId                                                           0 non-null object\n",
      "channelGrouping                                                    14887 non-null object\n",
      "socialEngagementType                                               14887 non-null object\n",
      "trafficSource_adwordsClickInfo_targetingCriteria_boomUserlistId    0 non-null float64\n",
      "dtypes: bool(1), float64(11), int64(5), object(57)\n",
      "memory usage: 8.4+ MB\n",
      "None None\n"
     ]
    }
   ],
   "source": [
    "print(train.info(),test.info())"
   ]
  },
  {
   "cell_type": "code",
   "execution_count": 10,
   "metadata": {},
   "outputs": [
    {
     "name": "stdout",
     "output_type": "stream",
     "text": [
      "(59481, 74) (14887, 74)\n"
     ]
    }
   ],
   "source": [
    "print(train.shape,test.shape)"
   ]
  },
  {
   "cell_type": "code",
   "execution_count": 11,
   "metadata": {},
   "outputs": [
    {
     "data": {
      "text/plain": [
       "Index(['visitNumber', 'visitId', 'visitStartTime', 'totals_visits',\n",
       "       'totals_hits', 'totals_pageviews', 'totals_timeOnSite',\n",
       "       'totals_bounces', 'totals_transactions', 'totals_transactionRevenue',\n",
       "       'totals_newVisits', 'totals_totalTransactionRevenue',\n",
       "       'totals_sessionQualityDim', 'trafficSource_adwordsClickInfo_page',\n",
       "       'trafficSource_adwordsClickInfo_targetingCriteria',\n",
       "       'trafficSource_adwordsClickInfo_targetingCriteria_boomUserlistId'],\n",
       "      dtype='object')"
      ]
     },
     "execution_count": 11,
     "metadata": {},
     "output_type": "execute_result"
    }
   ],
   "source": [
    "numeric_features_train = train.select_dtypes(include=[np.number])\n",
    "numeric_features_train.columns"
   ]
  },
  {
   "cell_type": "code",
   "execution_count": 12,
   "metadata": {},
   "outputs": [
    {
     "data": {
      "text/plain": [
       "Index(['visitorId', 'date', 'totals_screenviews', 'totals_uniqueScreenviews',\n",
       "       'totals_timeOnScreen', 'trafficSource_referralPath',\n",
       "       'trafficSource_campaign', 'trafficSource_source',\n",
       "       'trafficSource_medium', 'trafficSource_keyword',\n",
       "       'trafficSource_adContent', 'trafficSource_adwordsClickInfo_campaignId',\n",
       "       'trafficSource_adwordsClickInfo_adGroupId',\n",
       "       'trafficSource_adwordsClickInfo_creativeId',\n",
       "       'trafficSource_adwordsClickInfo_criteriaId',\n",
       "       'trafficSource_adwordsClickInfo_slot',\n",
       "       'trafficSource_adwordsClickInfo_criteriaParameters',\n",
       "       'trafficSource_adwordsClickInfo_gclId',\n",
       "       'trafficSource_adwordsClickInfo_customerId',\n",
       "       'trafficSource_adwordsClickInfo_adNetworkType',\n",
       "       'trafficSource_adwordsClickInfo_isVideoAd',\n",
       "       'trafficSource_isTrueDirect', 'trafficSource_campaignCode',\n",
       "       'device_browser', 'device_browserVersion', 'device_browserSize',\n",
       "       'device_operatingSystem', 'device_operatingSystemVersion',\n",
       "       'device_mobileDeviceBranding', 'device_mobileDeviceModel',\n",
       "       'device_mobileInputSelector', 'device_mobileDeviceInfo',\n",
       "       'device_mobileDeviceMarketingName', 'device_flashVersion',\n",
       "       'device_javaEnabled', 'device_language', 'device_screenColors',\n",
       "       'device_screenResolution', 'device_deviceCategory',\n",
       "       'geoNetwork_continent', 'geoNetwork_subContinent', 'geoNetwork_country',\n",
       "       'geoNetwork_region', 'geoNetwork_metro', 'geoNetwork_city',\n",
       "       'geoNetwork_cityId', 'geoNetwork_networkDomain', 'geoNetwork_latitude',\n",
       "       'geoNetwork_longitude', 'geoNetwork_networkLocation',\n",
       "       'customDimensions', 'hits', 'fullVisitorId', 'userId', 'clientId',\n",
       "       'channelGrouping', 'socialEngagementType'],\n",
       "      dtype='object')"
      ]
     },
     "execution_count": 12,
     "metadata": {},
     "output_type": "execute_result"
    }
   ],
   "source": [
    "categorical_features_train = train.select_dtypes(include=[np.object])\n",
    "categorical_features_train.columns"
   ]
  },
  {
   "cell_type": "code",
   "execution_count": 13,
   "metadata": {},
   "outputs": [
    {
     "data": {
      "text/plain": [
       "57"
      ]
     },
     "execution_count": 13,
     "metadata": {},
     "output_type": "execute_result"
    }
   ],
   "source": [
    "len(categorical_features_train.columns)"
   ]
  },
  {
   "cell_type": "code",
   "execution_count": 14,
   "metadata": {},
   "outputs": [],
   "source": [
    "numeric_features_test = test.select_dtypes(include=[np.number])\n",
    "categorical_features_test = test.select_dtypes(include=[np.object])"
   ]
  },
  {
   "cell_type": "code",
   "execution_count": 15,
   "metadata": {},
   "outputs": [],
   "source": [
    "total_test = categorical_features_train.isnull().sum().sort_values(ascending=False)\n",
    "percent = (categorical_features_train.isnull().sum()/categorical_features_train.isnull().count()).sort_values(ascending=False)*100\n",
    "missing_data = pd.concat([total_test, percent], axis=1,join='outer', keys=['Total Missing Count', ' % of Total Observations'])\n",
    "missing_data.index.name ='Feature'\n",
    "#missing_data.head(14)"
   ]
  },
  {
   "cell_type": "code",
   "execution_count": 16,
   "metadata": {},
   "outputs": [
    {
     "data": {
      "image/png": "[encoded data removed]",
      "text/plain": [
       "<Figure size 864x216 with 1 Axes>"
      ]
     },
     "metadata": {
      "needs_background": "light"
     },
     "output_type": "display_data"
    }
   ],
   "source": [
    "missing_values = categorical_features_train.isnull().sum(axis=0).reset_index()\n",
    "missing_values.columns = ['column_name', 'missing_count']\n",
    "missing_values = missing_values.loc[missing_values['missing_count']>0]\n",
    "missing_values = missing_values.sort_values(by='missing_count')\n",
    "ind = np.arange(missing_values.shape[0])\n",
    "width = 0.1\n",
    "fig, ax = plt.subplots(figsize=(12,3))\n",
    "rects = ax.barh(ind, missing_values.missing_count.values, color='b')\n",
    "ax.set_yticks(ind)\n",
    "ax.set_yticklabels(missing_values.column_name.values, rotation='horizontal')\n",
    "ax.set_xlabel(\"Missing Observations Count\")\n",
    "ax.set_title(\"Missing Categorical Observations in Train Dataset\")\n",
    "plt.show()"
   ]
  },
  {
   "cell_type": "code",
   "execution_count": 17,
   "metadata": {},
   "outputs": [],
   "source": [
    "total_test = categorical_features_test.isnull().sum().sort_values(ascending=False)\n",
    "percent = (categorical_features_test.isnull().sum()/categorical_features_test.isnull().count()).sort_values(ascending=False)*100\n",
    "missing_data = pd.concat([total_test, percent], axis=1,join='outer', keys=['Total Missing Count', ' % of Total Observations'])\n",
    "missing_data.index.name ='Feature'\n",
    "#missing_data.head(12)"
   ]
  },
  {
   "cell_type": "code",
   "execution_count": 18,
   "metadata": {},
   "outputs": [],
   "source": [
    "del train['hits']\n",
    "del train['customDimensions']\n",
    "del test['hits']\n",
    "del test['customDimensions']"
   ]
  },
  {
   "cell_type": "code",
   "execution_count": 19,
   "metadata": {},
   "outputs": [
    {
     "name": "stdout",
     "output_type": "stream",
     "text": [
      "Before removing constant columns - shape of train & test datasets:  (59481, 72) (14887, 72)\n",
      "After Removing Constant Columns - shape of train & test datasets:  (59481, 59) (14887, 59)\n"
     ]
    }
   ],
   "source": [
    "def Remove_Null_Columns(df):\n",
    "    #dff = pd.DataFrame()\n",
    "    for cl in df.select_dtypes(include=[np.object]):\n",
    "        if df[cl].isnull().sum() == len(df[cl]):\n",
    "            #pass \n",
    "            del df[cl]\n",
    "        else:\n",
    "            #dff[cl] = df[cl]\n",
    "            pass\n",
    "    return df\n",
    "\n",
    "print (\"Before removing constant columns - shape of train & test datasets: \", train.shape,test.shape)\n",
    "\n",
    "train=Remove_Null_Columns(train)\n",
    "test=Remove_Null_Columns(test)\n",
    "\n",
    "print (\"After Removing Constant Columns - shape of train & test datasets: \", train.shape,test.shape)"
   ]
  },
  {
   "cell_type": "code",
   "execution_count": 20,
   "metadata": {},
   "outputs": [
    {
     "data": {
      "text/plain": [
       "42"
      ]
     },
     "execution_count": 20,
     "metadata": {},
     "output_type": "execute_result"
    }
   ],
   "source": [
    "categorical_features_train_final = train.select_dtypes(include=[np.object])\n",
    "len(categorical_features_train_final.columns)"
   ]
  },
  {
   "cell_type": "code",
   "execution_count": 21,
   "metadata": {},
   "outputs": [
    {
     "data": {
      "application/vnd.plotly.v1+json": {
       "config": {
        "linkText": "Export to plot.ly",
        "plotlyServerURL": "https://plot.ly",
        "showLink": false
       },
       "data": [
        {
         "autocolorscale": false,
         "colorbar": {
          "title": {
           "text": "Customer Visits "
          }
         },
         "colorscale": [
          [
           0,
           "rgb(102,194,165)"
          ],
          [
           0.0005,
           "rgb(102,194,165)"
          ],
          [
           0.01,
           "rgb(171,221,164)"
          ],
          [
           0.02,
           "rgb(230,245,152)"
          ],
          [
           0.04,
           "rgb(255,255,191)"
          ],
          [
           0.05,
           "rgb(254,224,139)"
          ],
          [
           0.1,
           "rgb(253,174,97)"
          ],
          [
           0.25,
           "rgb(213,62,79)"
          ],
          [
           1,
           "rgb(158,1,66)"
          ]
         ],
         "locationmode": "country names",
         "locations": [
          "United States",
          "India",
          "United Kingdom",
          "Canada",
          "Japan",
          "Germany",
          "Taiwan",
          "Australia",
          "France",
          "Brazil",
          "Italy",
          "Spain",
          "Mexico",
          "Netherlands",
          "Russia",
          "Singapore",
          "Indonesia",
          "Turkey",
          "Ireland",
          "Poland",
          "Malaysia",
          "South Korea",
          "Philippines",
          "Colombia",
          "Argentina",
          "Thailand",
          "Hong Kong",
          "China",
          "Vietnam",
          "Peru",
          "Switzerland",
          "Ukraine",
          "Israel",
          "Belgium",
          "Greece",
          "Bulgaria",
          "Sweden",
          "Czechia",
          "Pakistan",
          "Romania",
          "Denmark",
          "New Zealand",
          "Austria",
          "Bangladesh",
          "Hungary",
          "Slovakia",
          "Chile",
          "Portugal",
          "United Arab Emirates",
          "Saudi Arabia",
          "Egypt",
          "Nigeria",
          "Morocco",
          "South Africa",
          "Norway",
          "Sri Lanka",
          "Serbia",
          "Croatia",
          "(not set)",
          "Algeria",
          "Venezuela",
          "Belarus",
          "Lithuania",
          "Georgia",
          "Latvia",
          "Slovenia",
          "Finland",
          "Ecuador",
          "Dominican Republic",
          "Estonia",
          "Kenya",
          "Bosnia & Herzegovina",
          "Puerto Rico",
          "Costa Rica",
          "Cambodia",
          "Jordan",
          "Cyprus",
          "Iraq",
          "Panama",
          "Tunisia",
          "Kazakhstan",
          "Guatemala",
          "Uruguay",
          "Ghana",
          "Ethiopia",
          "El Salvador",
          "Qatar",
          "Kuwait",
          "Côte d’Ivoire",
          "Nepal",
          "Azerbaijan",
          "Moldova",
          "Armenia",
          "Tanzania",
          "Lebanon",
          "Myanmar (Burma)",
          "Kosovo",
          "Uganda",
          "Bahrain",
          "Macedonia (FYROM)",
          "Oman",
          "Laos",
          "Nicaragua",
          "Trinidad & Tobago",
          "Malta",
          "Yemen",
          "Cameroon",
          "Congo - Kinshasa",
          "Iceland",
          "Bolivia",
          "Martinique",
          "Honduras",
          "Albania",
          "Luxembourg",
          "Réunion",
          "Burkina Faso",
          "Palestine",
          "Macau",
          "Mauritius",
          "Senegal",
          "Libya",
          "Barbados",
          "Sudan",
          "Iran",
          "Rwanda",
          "Afghanistan",
          "Zimbabwe",
          "Maldives",
          "Brunei",
          "Jamaica",
          "Namibia",
          "Guam",
          "Zambia",
          "Guinea",
          "Guyana",
          "Jersey",
          "Bahamas",
          "Mozambique",
          "Mongolia",
          "Somalia",
          "Bermuda",
          "Aruba",
          "Northern Mariana Islands",
          "Benin",
          "French Polynesia",
          "Uzbekistan",
          "Bhutan",
          "Suriname",
          "Guadeloupe",
          "Paraguay",
          "St. Lucia",
          "Faroe Islands",
          "U.S. Virgin Islands",
          "Montenegro",
          "British Virgin Islands",
          "Burundi",
          "Kyrgyzstan",
          "Turks & Caicos Islands",
          "Belize",
          "Cape Verde",
          "Madagascar",
          "Liberia",
          "Mali",
          "Timor-Leste",
          "Vanuatu",
          "St. Vincent & Grenadines",
          "Gibraltar",
          "New Caledonia",
          "Central African Republic",
          "Andorra",
          "Greenland",
          "Samoa",
          "Tajikistan",
          "Curaçao",
          "Niger",
          "Malawi",
          "Haiti",
          "Mauritania",
          "Congo - Brazzaville",
          "San Marino",
          "Togo",
          "French Guiana",
          "Mayotte",
          "Guernsey"
         ],
         "marker": {
          "line": {
           "color": "rgb(250,250,225)",
           "width": 1
          }
         },
         "showscale": true,
         "type": "choropleth",
         "uid": "a61a099e-24ba-4566-baec-951476ac72f4",
         "z": [
          27218,
          3925,
          3164,
          2011,
          1433,
          1419,
          1256,
          1095,
          1063,
          805,
          777,
          741,
          652,
          613,
          569,
          546,
          483,
          437,
          432,
          426,
          407,
          405,
          397,
          380,
          366,
          347,
          341,
          306,
          303,
          299,
          288,
          277,
          265,
          265,
          261,
          250,
          244,
          231,
          230,
          206,
          204,
          199,
          176,
          170,
          154,
          141,
          140,
          139,
          137,
          137,
          129,
          121,
          116,
          116,
          108,
          107,
          97,
          91,
          85,
          85,
          70,
          66,
          64,
          62,
          61,
          61,
          57,
          51,
          50,
          49,
          49,
          47,
          46,
          42,
          41,
          38,
          33,
          33,
          33,
          32,
          27,
          26,
          26,
          25,
          22,
          22,
          22,
          20,
          19,
          18,
          18,
          15,
          15,
          14,
          14,
          13,
          13,
          13,
          13,
          13,
          12,
          12,
          11,
          11,
          10,
          10,
          10,
          9,
          9,
          9,
          8,
          8,
          8,
          8,
          8,
          7,
          7,
          7,
          7,
          6,
          6,
          6,
          6,
          6,
          5,
          5,
          5,
          5,
          5,
          4,
          4,
          4,
          4,
          4,
          4,
          4,
          3,
          3,
          3,
          3,
          3,
          3,
          3,
          3,
          3,
          3,
          3,
          3,
          3,
          3,
          3,
          2,
          2,
          2,
          2,
          2,
          2,
          2,
          2,
          2,
          2,
          2,
          1,
          1,
          1,
          1,
          1,
          1,
          1,
          1,
          1,
          1,
          1,
          1,
          1,
          1,
          1,
          1,
          1,
          1,
          1,
          1,
          1,
          1
         ]
        }
       ],
       "layout": {
        "geo": {
         "lataxis": {
          "gridcolor": "rgb(12, 102, 102)",
          "showgrid": true
         },
         "lonaxis": {
          "gridcolor": "rgb(12, 102, 102)",
          "showgrid": true
         },
         "oceancolor": "rgb(28,107,160)",
         "projection": {
          "rotation": {
           "lat": 10,
           "lon": 50
          },
          "type": "orthographic"
         },
         "showframe": true,
         "showocean": true
        },
        "height": 600,
        "title": {
         "text": "World Wide Customer Visit Distribution"
        }
       }
      },
      "text/html": [
       "<div>\n",
       "        \n",
       "        \n",
       "            <div id=\"337179e4-9867-449b-b518-b6050abababa\" class=\"plotly-graph-div\" style=\"height:600px; width:100%;\"></div>\n",
       "            <script type=\"text/javascript\">\n",
       "                require([\"plotly\"], function(Plotly) {\n",
       "                    window.PLOTLYENV=window.PLOTLYENV || {};\n",
       "                    window.PLOTLYENV.BASE_URL='https://plot.ly';\n",
       "                    \n",
       "                if (document.getElementById(\"337179e4-9867-449b-b518-b6050abababa\")) {\n",
       "                    Plotly.newPlot(\n",
       "                        '337179e4-9867-449b-b518-b6050abababa',\n",
       "                        [{\"autocolorscale\": false, \"colorbar\": {\"title\": {\"text\": \"Customer Visits \"}}, \"colorscale\": [[0, \"rgb(102,194,165)\"], [0.0005, \"rgb(102,194,165)\"], [0.01, \"rgb(171,221,164)\"], [0.02, \"rgb(230,245,152)\"], [0.04, \"rgb(255,255,191)\"], [0.05, \"rgb(254,224,139)\"], [0.1, \"rgb(253,174,97)\"], [0.25, \"rgb(213,62,79)\"], [1.0, \"rgb(158,1,66)\"]], \"locationmode\": \"country names\", \"locations\": [\"United States\", \"India\", \"United Kingdom\", \"Canada\", \"Japan\", \"Germany\", \"Taiwan\", \"Australia\", \"France\", \"Brazil\", \"Italy\", \"Spain\", \"Mexico\", \"Netherlands\", \"Russia\", \"Singapore\", \"Indonesia\", \"Turkey\", \"Ireland\", \"Poland\", \"Malaysia\", \"South Korea\", \"Philippines\", \"Colombia\", \"Argentina\", \"Thailand\", \"Hong Kong\", \"China\", \"Vietnam\", \"Peru\", \"Switzerland\", \"Ukraine\", \"Israel\", \"Belgium\", \"Greece\", \"Bulgaria\", \"Sweden\", \"Czechia\", \"Pakistan\", \"Romania\", \"Denmark\", \"New Zealand\", \"Austria\", \"Bangladesh\", \"Hungary\", \"Slovakia\", \"Chile\", \"Portugal\", \"United Arab Emirates\", \"Saudi Arabia\", \"Egypt\", \"Nigeria\", \"Morocco\", \"South Africa\", \"Norway\", \"Sri Lanka\", \"Serbia\", \"Croatia\", \"(not set)\", \"Algeria\", \"Venezuela\", \"Belarus\", \"Lithuania\", \"Georgia\", \"Latvia\", \"Slovenia\", \"Finland\", \"Ecuador\", \"Dominican Republic\", \"Estonia\", \"Kenya\", \"Bosnia & Herzegovina\", \"Puerto Rico\", \"Costa Rica\", \"Cambodia\", \"Jordan\", \"Cyprus\", \"Iraq\", \"Panama\", \"Tunisia\", \"Kazakhstan\", \"Guatemala\", \"Uruguay\", \"Ghana\", \"Ethiopia\", \"El Salvador\", \"Qatar\", \"Kuwait\", \"C\\u00f4te d\\u2019Ivoire\", \"Nepal\", \"Azerbaijan\", \"Moldova\", \"Armenia\", \"Tanzania\", \"Lebanon\", \"Myanmar (Burma)\", \"Kosovo\", \"Uganda\", \"Bahrain\", \"Macedonia (FYROM)\", \"Oman\", \"Laos\", \"Nicaragua\", \"Trinidad & Tobago\", \"Malta\", \"Yemen\", \"Cameroon\", \"Congo - Kinshasa\", \"Iceland\", \"Bolivia\", \"Martinique\", \"Honduras\", \"Albania\", \"Luxembourg\", \"R\\u00e9union\", \"Burkina Faso\", \"Palestine\", \"Macau\", \"Mauritius\", \"Senegal\", \"Libya\", \"Barbados\", \"Sudan\", \"Iran\", \"Rwanda\", \"Afghanistan\", \"Zimbabwe\", \"Maldives\", \"Brunei\", \"Jamaica\", \"Namibia\", \"Guam\", \"Zambia\", \"Guinea\", \"Guyana\", \"Jersey\", \"Bahamas\", \"Mozambique\", \"Mongolia\", \"Somalia\", \"Bermuda\", \"Aruba\", \"Northern Mariana Islands\", \"Benin\", \"French Polynesia\", \"Uzbekistan\", \"Bhutan\", \"Suriname\", \"Guadeloupe\", \"Paraguay\", \"St. Lucia\", \"Faroe Islands\", \"U.S. Virgin Islands\", \"Montenegro\", \"British Virgin Islands\", \"Burundi\", \"Kyrgyzstan\", \"Turks & Caicos Islands\", \"Belize\", \"Cape Verde\", \"Madagascar\", \"Liberia\", \"Mali\", \"Timor-Leste\", \"Vanuatu\", \"St. Vincent & Grenadines\", \"Gibraltar\", \"New Caledonia\", \"Central African Republic\", \"Andorra\", \"Greenland\", \"Samoa\", \"Tajikistan\", \"Cura\\u00e7ao\", \"Niger\", \"Malawi\", \"Haiti\", \"Mauritania\", \"Congo - Brazzaville\", \"San Marino\", \"Togo\", \"French Guiana\", \"Mayotte\", \"Guernsey\"], \"marker\": {\"line\": {\"color\": \"rgb(250,250,225)\", \"width\": 1}}, \"showscale\": true, \"type\": \"choropleth\", \"uid\": \"a61a099e-24ba-4566-baec-951476ac72f4\", \"z\": [27218, 3925, 3164, 2011, 1433, 1419, 1256, 1095, 1063, 805, 777, 741, 652, 613, 569, 546, 483, 437, 432, 426, 407, 405, 397, 380, 366, 347, 341, 306, 303, 299, 288, 277, 265, 265, 261, 250, 244, 231, 230, 206, 204, 199, 176, 170, 154, 141, 140, 139, 137, 137, 129, 121, 116, 116, 108, 107, 97, 91, 85, 85, 70, 66, 64, 62, 61, 61, 57, 51, 50, 49, 49, 47, 46, 42, 41, 38, 33, 33, 33, 32, 27, 26, 26, 25, 22, 22, 22, 20, 19, 18, 18, 15, 15, 14, 14, 13, 13, 13, 13, 13, 12, 12, 11, 11, 10, 10, 10, 9, 9, 9, 8, 8, 8, 8, 8, 7, 7, 7, 7, 6, 6, 6, 6, 6, 5, 5, 5, 5, 5, 4, 4, 4, 4, 4, 4, 4, 3, 3, 3, 3, 3, 3, 3, 3, 3, 3, 3, 3, 3, 3, 3, 2, 2, 2, 2, 2, 2, 2, 2, 2, 2, 2, 1, 1, 1, 1, 1, 1, 1, 1, 1, 1, 1, 1, 1, 1, 1, 1, 1, 1, 1, 1, 1, 1]}],\n",
       "                        {\"geo\": {\"lataxis\": {\"gridcolor\": \"rgb(12, 102, 102)\", \"showgrid\": true}, \"lonaxis\": {\"gridcolor\": \"rgb(12, 102, 102)\", \"showgrid\": true}, \"oceancolor\": \"rgb(28,107,160)\", \"projection\": {\"rotation\": {\"lat\": 10, \"lon\": 50}, \"type\": \"orthographic\"}, \"showframe\": true, \"showocean\": true}, \"height\": 600, \"title\": {\"text\": \"World Wide Customer Visit Distribution\"}},\n",
       "                        {\"showLink\": false, \"linkText\": \"Export to plot.ly\", \"plotlyServerURL\": \"https://plot.ly\", \"responsive\": true}\n",
       "                    ).then(function(){\n",
       "                            \n",
       "var gd = document.getElementById('337179e4-9867-449b-b518-b6050abababa');\n",
       "var x = new MutationObserver(function (mutations, observer) {{\n",
       "        var display = window.getComputedStyle(gd).display;\n",
       "        if (!display || display === 'none') {{\n",
       "            console.log([gd, 'removed!']);\n",
       "            Plotly.purge(gd);\n",
       "            observer.disconnect();\n",
       "        }}\n",
       "}});\n",
       "\n",
       "// Listen for the removal of the full notebook cells\n",
       "var notebookContainer = gd.closest('#notebook-container');\n",
       "if (notebookContainer) {{\n",
       "    x.observe(notebookContainer, {childList: true});\n",
       "}}\n",
       "\n",
       "// Listen for the clearing of the current output cell\n",
       "var outputEl = gd.closest('.output');\n",
       "if (outputEl) {{\n",
       "    x.observe(outputEl, {childList: true});\n",
       "}}\n",
       "\n",
       "                        })\n",
       "                };\n",
       "                });\n",
       "            </script>\n",
       "        </div>"
      ]
     },
     "metadata": {},
     "output_type": "display_data"
    }
   ],
   "source": [
    "colorscale = [[0, 'rgb(102,194,165)'], [0.0005, 'rgb(102,194,165)'], \n",
    "              [0.01, 'rgb(171,221,164)'], [0.02, 'rgb(230,245,152)'], \n",
    "              [0.04, 'rgb(255,255,191)'], [0.05, 'rgb(254,224,139)'], \n",
    "              [0.10, 'rgb(253,174,97)'], [0.25, 'rgb(213,62,79)'], [1.0, 'rgb(158,1,66)']]\n",
    "\n",
    "data = [ dict(\n",
    "        type = 'choropleth',\n",
    "        autocolorscale = False,\n",
    "        colorscale = colorscale,\n",
    "        showscale = True,\n",
    "        locations = train[\"geoNetwork_country\"].value_counts().index,\n",
    "        locationmode = 'country names',\n",
    "        z = train[\"geoNetwork_country\"].value_counts().values,\n",
    "        marker = dict(\n",
    "            line = dict(color = 'rgb(250,250,225)', width = 1)),\n",
    "            colorbar = dict( title = 'Customer Visits ')\n",
    "            ) \n",
    "       ]\n",
    "\n",
    "layout = dict(\n",
    "    height=600,\n",
    "    title = 'World Wide Customer Visit Distribution',\n",
    "    geo = dict(\n",
    "        showframe = True,\n",
    "        showocean = True,\n",
    "        oceancolor = 'rgb(28,107,160)',\n",
    "        projection = dict(\n",
    "        type = 'orthographic',\n",
    "            rotation = dict(\n",
    "                    lon = 50,\n",
    "                    lat = 10),\n",
    "        ),\n",
    "        lonaxis =  dict(\n",
    "                showgrid = True,\n",
    "                gridcolor = 'rgb(12, 102, 102)'\n",
    "            ),\n",
    "        lataxis = dict(\n",
    "                showgrid = True,\n",
    "                gridcolor = 'rgb(12, 102, 102)'\n",
    "                )\n",
    "            ),\n",
    "        )\n",
    "fig = dict(data=data, layout=layout)\n",
    "iplot(fig)"
   ]
  },
  {
   "cell_type": "code",
   "execution_count": 22,
   "metadata": {},
   "outputs": [
    {
     "data": {
      "application/vnd.plotly.v1+json": {
       "config": {
        "linkText": "Export to plot.ly",
        "plotlyServerURL": "https://plot.ly",
        "showLink": false
       },
       "data": [
        {
         "autocolorscale": false,
         "colorbar": {
          "title": {
           "text": "Customer Visits "
          }
         },
         "colorscale": [
          [
           0,
           "rgb(102,194,165)"
          ],
          [
           0.0005,
           "rgb(102,194,165)"
          ],
          [
           0.01,
           "rgb(171,221,164)"
          ],
          [
           0.02,
           "rgb(230,245,152)"
          ],
          [
           0.04,
           "rgb(255,255,191)"
          ],
          [
           0.05,
           "rgb(254,224,139)"
          ],
          [
           0.1,
           "rgb(253,174,97)"
          ],
          [
           0.25,
           "rgb(213,62,79)"
          ],
          [
           1,
           "rgb(158,1,66)"
          ]
         ],
         "locationmode": "country names",
         "locations": [
          "United States",
          "India",
          "United Kingdom",
          "Canada",
          "Japan",
          "Germany",
          "Taiwan",
          "Australia",
          "France",
          "Brazil",
          "Italy",
          "Spain",
          "Mexico",
          "Netherlands",
          "Russia",
          "Singapore",
          "Indonesia",
          "Turkey",
          "Ireland",
          "Poland",
          "Malaysia",
          "South Korea",
          "Philippines",
          "Colombia",
          "Argentina",
          "Thailand",
          "Hong Kong",
          "China",
          "Vietnam",
          "Peru",
          "Switzerland",
          "Ukraine",
          "Israel",
          "Belgium",
          "Greece",
          "Bulgaria",
          "Sweden",
          "Czechia",
          "Pakistan",
          "Romania",
          "Denmark",
          "New Zealand",
          "Austria",
          "Bangladesh",
          "Hungary",
          "Slovakia",
          "Chile",
          "Portugal",
          "United Arab Emirates",
          "Saudi Arabia",
          "Egypt",
          "Nigeria",
          "Morocco",
          "South Africa",
          "Norway",
          "Sri Lanka",
          "Serbia",
          "Croatia",
          "(not set)",
          "Algeria",
          "Venezuela",
          "Belarus",
          "Lithuania",
          "Georgia",
          "Latvia",
          "Slovenia",
          "Finland",
          "Ecuador",
          "Dominican Republic",
          "Estonia",
          "Kenya",
          "Bosnia & Herzegovina",
          "Puerto Rico",
          "Costa Rica",
          "Cambodia",
          "Jordan",
          "Cyprus",
          "Iraq",
          "Panama",
          "Tunisia",
          "Kazakhstan",
          "Guatemala",
          "Uruguay",
          "Ghana",
          "Ethiopia",
          "El Salvador",
          "Qatar",
          "Kuwait",
          "Côte d’Ivoire",
          "Nepal",
          "Azerbaijan",
          "Moldova",
          "Armenia",
          "Tanzania",
          "Lebanon",
          "Myanmar (Burma)",
          "Kosovo",
          "Uganda",
          "Bahrain",
          "Macedonia (FYROM)",
          "Oman",
          "Laos",
          "Nicaragua",
          "Trinidad & Tobago",
          "Malta",
          "Yemen",
          "Cameroon",
          "Congo - Kinshasa",
          "Iceland",
          "Bolivia",
          "Martinique",
          "Honduras",
          "Albania",
          "Luxembourg",
          "Réunion",
          "Burkina Faso",
          "Palestine",
          "Macau",
          "Mauritius",
          "Senegal",
          "Libya",
          "Barbados",
          "Sudan",
          "Iran",
          "Rwanda",
          "Afghanistan",
          "Zimbabwe",
          "Maldives",
          "Brunei",
          "Jamaica",
          "Namibia",
          "Guam",
          "Zambia",
          "Guinea",
          "Guyana",
          "Jersey",
          "Bahamas",
          "Mozambique",
          "Mongolia",
          "Somalia",
          "Bermuda",
          "Aruba",
          "Northern Mariana Islands",
          "Benin",
          "French Polynesia",
          "Uzbekistan",
          "Bhutan",
          "Suriname",
          "Guadeloupe",
          "Paraguay",
          "St. Lucia",
          "Faroe Islands",
          "U.S. Virgin Islands",
          "Montenegro",
          "British Virgin Islands",
          "Burundi",
          "Kyrgyzstan",
          "Turks & Caicos Islands",
          "Belize",
          "Cape Verde",
          "Madagascar",
          "Liberia",
          "Mali",
          "Timor-Leste",
          "Vanuatu",
          "St. Vincent & Grenadines",
          "Gibraltar",
          "New Caledonia",
          "Central African Republic",
          "Andorra",
          "Greenland",
          "Samoa",
          "Tajikistan",
          "Curaçao",
          "Niger",
          "Malawi",
          "Haiti",
          "Mauritania",
          "Congo - Brazzaville",
          "San Marino",
          "Togo",
          "French Guiana",
          "Mayotte",
          "Guernsey"
         ],
         "marker": {
          "line": {
           "color": "rgb(250,250,225)",
           "width": 1
          }
         },
         "showscale": true,
         "type": "choropleth",
         "uid": "dfeddc7e-0cb3-4f4a-a215-8c406437d6db",
         "z": [
          27218,
          3925,
          3164,
          2011,
          1433,
          1419,
          1256,
          1095,
          1063,
          805,
          777,
          741,
          652,
          613,
          569,
          546,
          483,
          437,
          432,
          426,
          407,
          405,
          397,
          380,
          366,
          347,
          341,
          306,
          303,
          299,
          288,
          277,
          265,
          265,
          261,
          250,
          244,
          231,
          230,
          206,
          204,
          199,
          176,
          170,
          154,
          141,
          140,
          139,
          137,
          137,
          129,
          121,
          116,
          116,
          108,
          107,
          97,
          91,
          85,
          85,
          70,
          66,
          64,
          62,
          61,
          61,
          57,
          51,
          50,
          49,
          49,
          47,
          46,
          42,
          41,
          38,
          33,
          33,
          33,
          32,
          27,
          26,
          26,
          25,
          22,
          22,
          22,
          20,
          19,
          18,
          18,
          15,
          15,
          14,
          14,
          13,
          13,
          13,
          13,
          13,
          12,
          12,
          11,
          11,
          10,
          10,
          10,
          9,
          9,
          9,
          8,
          8,
          8,
          8,
          8,
          7,
          7,
          7,
          7,
          6,
          6,
          6,
          6,
          6,
          5,
          5,
          5,
          5,
          5,
          4,
          4,
          4,
          4,
          4,
          4,
          4,
          3,
          3,
          3,
          3,
          3,
          3,
          3,
          3,
          3,
          3,
          3,
          3,
          3,
          3,
          3,
          2,
          2,
          2,
          2,
          2,
          2,
          2,
          2,
          2,
          2,
          2,
          1,
          1,
          1,
          1,
          1,
          1,
          1,
          1,
          1,
          1,
          1,
          1,
          1,
          1,
          1,
          1,
          1,
          1,
          1,
          1,
          1,
          1
         ]
        }
       ],
       "layout": {
        "geo": {
         "lataxis": {
          "gridcolor": "rgb(12, 102, 102)",
          "showgrid": true
         },
         "lonaxis": {
          "gridcolor": "rgb(12, 102, 102)",
          "showgrid": true
         },
         "oceancolor": "rgb(28,107,160)",
         "projection": {
          "rotation": {
           "lat": 10,
           "lon": 50
          },
          "type": "conic equal area"
         },
         "showframe": true,
         "showocean": true
        },
        "height": 600,
        "title": {
         "text": "World Wide Customer Visit Distribution"
        }
       }
      },
      "text/html": [
       "<div>\n",
       "        \n",
       "        \n",
       "            <div id=\"3aebc18e-8c0d-42e0-b83f-82748afc00e7\" class=\"plotly-graph-div\" style=\"height:600px; width:100%;\"></div>\n",
       "            <script type=\"text/javascript\">\n",
       "                require([\"plotly\"], function(Plotly) {\n",
       "                    window.PLOTLYENV=window.PLOTLYENV || {};\n",
       "                    window.PLOTLYENV.BASE_URL='https://plot.ly';\n",
       "                    \n",
       "                if (document.getElementById(\"3aebc18e-8c0d-42e0-b83f-82748afc00e7\")) {\n",
       "                    Plotly.newPlot(\n",
       "                        '3aebc18e-8c0d-42e0-b83f-82748afc00e7',\n",
       "                        [{\"autocolorscale\": false, \"colorbar\": {\"title\": {\"text\": \"Customer Visits \"}}, \"colorscale\": [[0, \"rgb(102,194,165)\"], [0.0005, \"rgb(102,194,165)\"], [0.01, \"rgb(171,221,164)\"], [0.02, \"rgb(230,245,152)\"], [0.04, \"rgb(255,255,191)\"], [0.05, \"rgb(254,224,139)\"], [0.1, \"rgb(253,174,97)\"], [0.25, \"rgb(213,62,79)\"], [1.0, \"rgb(158,1,66)\"]], \"locationmode\": \"country names\", \"locations\": [\"United States\", \"India\", \"United Kingdom\", \"Canada\", \"Japan\", \"Germany\", \"Taiwan\", \"Australia\", \"France\", \"Brazil\", \"Italy\", \"Spain\", \"Mexico\", \"Netherlands\", \"Russia\", \"Singapore\", \"Indonesia\", \"Turkey\", \"Ireland\", \"Poland\", \"Malaysia\", \"South Korea\", \"Philippines\", \"Colombia\", \"Argentina\", \"Thailand\", \"Hong Kong\", \"China\", \"Vietnam\", \"Peru\", \"Switzerland\", \"Ukraine\", \"Israel\", \"Belgium\", \"Greece\", \"Bulgaria\", \"Sweden\", \"Czechia\", \"Pakistan\", \"Romania\", \"Denmark\", \"New Zealand\", \"Austria\", \"Bangladesh\", \"Hungary\", \"Slovakia\", \"Chile\", \"Portugal\", \"United Arab Emirates\", \"Saudi Arabia\", \"Egypt\", \"Nigeria\", \"Morocco\", \"South Africa\", \"Norway\", \"Sri Lanka\", \"Serbia\", \"Croatia\", \"(not set)\", \"Algeria\", \"Venezuela\", \"Belarus\", \"Lithuania\", \"Georgia\", \"Latvia\", \"Slovenia\", \"Finland\", \"Ecuador\", \"Dominican Republic\", \"Estonia\", \"Kenya\", \"Bosnia & Herzegovina\", \"Puerto Rico\", \"Costa Rica\", \"Cambodia\", \"Jordan\", \"Cyprus\", \"Iraq\", \"Panama\", \"Tunisia\", \"Kazakhstan\", \"Guatemala\", \"Uruguay\", \"Ghana\", \"Ethiopia\", \"El Salvador\", \"Qatar\", \"Kuwait\", \"C\\u00f4te d\\u2019Ivoire\", \"Nepal\", \"Azerbaijan\", \"Moldova\", \"Armenia\", \"Tanzania\", \"Lebanon\", \"Myanmar (Burma)\", \"Kosovo\", \"Uganda\", \"Bahrain\", \"Macedonia (FYROM)\", \"Oman\", \"Laos\", \"Nicaragua\", \"Trinidad & Tobago\", \"Malta\", \"Yemen\", \"Cameroon\", \"Congo - Kinshasa\", \"Iceland\", \"Bolivia\", \"Martinique\", \"Honduras\", \"Albania\", \"Luxembourg\", \"R\\u00e9union\", \"Burkina Faso\", \"Palestine\", \"Macau\", \"Mauritius\", \"Senegal\", \"Libya\", \"Barbados\", \"Sudan\", \"Iran\", \"Rwanda\", \"Afghanistan\", \"Zimbabwe\", \"Maldives\", \"Brunei\", \"Jamaica\", \"Namibia\", \"Guam\", \"Zambia\", \"Guinea\", \"Guyana\", \"Jersey\", \"Bahamas\", \"Mozambique\", \"Mongolia\", \"Somalia\", \"Bermuda\", \"Aruba\", \"Northern Mariana Islands\", \"Benin\", \"French Polynesia\", \"Uzbekistan\", \"Bhutan\", \"Suriname\", \"Guadeloupe\", \"Paraguay\", \"St. Lucia\", \"Faroe Islands\", \"U.S. Virgin Islands\", \"Montenegro\", \"British Virgin Islands\", \"Burundi\", \"Kyrgyzstan\", \"Turks & Caicos Islands\", \"Belize\", \"Cape Verde\", \"Madagascar\", \"Liberia\", \"Mali\", \"Timor-Leste\", \"Vanuatu\", \"St. Vincent & Grenadines\", \"Gibraltar\", \"New Caledonia\", \"Central African Republic\", \"Andorra\", \"Greenland\", \"Samoa\", \"Tajikistan\", \"Cura\\u00e7ao\", \"Niger\", \"Malawi\", \"Haiti\", \"Mauritania\", \"Congo - Brazzaville\", \"San Marino\", \"Togo\", \"French Guiana\", \"Mayotte\", \"Guernsey\"], \"marker\": {\"line\": {\"color\": \"rgb(250,250,225)\", \"width\": 1}}, \"showscale\": true, \"type\": \"choropleth\", \"uid\": \"dfeddc7e-0cb3-4f4a-a215-8c406437d6db\", \"z\": [27218, 3925, 3164, 2011, 1433, 1419, 1256, 1095, 1063, 805, 777, 741, 652, 613, 569, 546, 483, 437, 432, 426, 407, 405, 397, 380, 366, 347, 341, 306, 303, 299, 288, 277, 265, 265, 261, 250, 244, 231, 230, 206, 204, 199, 176, 170, 154, 141, 140, 139, 137, 137, 129, 121, 116, 116, 108, 107, 97, 91, 85, 85, 70, 66, 64, 62, 61, 61, 57, 51, 50, 49, 49, 47, 46, 42, 41, 38, 33, 33, 33, 32, 27, 26, 26, 25, 22, 22, 22, 20, 19, 18, 18, 15, 15, 14, 14, 13, 13, 13, 13, 13, 12, 12, 11, 11, 10, 10, 10, 9, 9, 9, 8, 8, 8, 8, 8, 7, 7, 7, 7, 6, 6, 6, 6, 6, 5, 5, 5, 5, 5, 4, 4, 4, 4, 4, 4, 4, 3, 3, 3, 3, 3, 3, 3, 3, 3, 3, 3, 3, 3, 3, 3, 2, 2, 2, 2, 2, 2, 2, 2, 2, 2, 2, 1, 1, 1, 1, 1, 1, 1, 1, 1, 1, 1, 1, 1, 1, 1, 1, 1, 1, 1, 1, 1, 1]}],\n",
       "                        {\"geo\": {\"lataxis\": {\"gridcolor\": \"rgb(12, 102, 102)\", \"showgrid\": true}, \"lonaxis\": {\"gridcolor\": \"rgb(12, 102, 102)\", \"showgrid\": true}, \"oceancolor\": \"rgb(28,107,160)\", \"projection\": {\"rotation\": {\"lat\": 10, \"lon\": 50}, \"type\": \"conic equal area\"}, \"showframe\": true, \"showocean\": true}, \"height\": 600, \"title\": {\"text\": \"World Wide Customer Visit Distribution\"}},\n",
       "                        {\"showLink\": false, \"linkText\": \"Export to plot.ly\", \"plotlyServerURL\": \"https://plot.ly\", \"responsive\": true}\n",
       "                    ).then(function(){\n",
       "                            \n",
       "var gd = document.getElementById('3aebc18e-8c0d-42e0-b83f-82748afc00e7');\n",
       "var x = new MutationObserver(function (mutations, observer) {{\n",
       "        var display = window.getComputedStyle(gd).display;\n",
       "        if (!display || display === 'none') {{\n",
       "            console.log([gd, 'removed!']);\n",
       "            Plotly.purge(gd);\n",
       "            observer.disconnect();\n",
       "        }}\n",
       "}});\n",
       "\n",
       "// Listen for the removal of the full notebook cells\n",
       "var notebookContainer = gd.closest('#notebook-container');\n",
       "if (notebookContainer) {{\n",
       "    x.observe(notebookContainer, {childList: true});\n",
       "}}\n",
       "\n",
       "// Listen for the clearing of the current output cell\n",
       "var outputEl = gd.closest('.output');\n",
       "if (outputEl) {{\n",
       "    x.observe(outputEl, {childList: true});\n",
       "}}\n",
       "\n",
       "                        })\n",
       "                };\n",
       "                });\n",
       "            </script>\n",
       "        </div>"
      ]
     },
     "metadata": {},
     "output_type": "display_data"
    }
   ],
   "source": [
    "layout = dict(\n",
    "    height=600,\n",
    "    title = 'World Wide Customer Visit Distribution',\n",
    "    geo = dict(\n",
    "        showframe = True,\n",
    "        showocean = True,\n",
    "        oceancolor = 'rgb(28,107,160)',\n",
    "        projection = dict(\n",
    "        type = 'conic equal area',\n",
    "            rotation = dict(\n",
    "                    lon = 50,\n",
    "                    lat = 10),\n",
    "        ),\n",
    "        lonaxis =  dict(\n",
    "                showgrid = True,\n",
    "                gridcolor = 'rgb(12, 102, 102)'\n",
    "            ),\n",
    "        lataxis = dict(\n",
    "                showgrid = True,\n",
    "                gridcolor = 'rgb(12, 102, 102)'\n",
    "                )\n",
    "            ),\n",
    "        )\n",
    "fig = dict(data=data, layout=layout)\n",
    "iplot(fig)"
   ]
  },
  {
   "cell_type": "code",
   "execution_count": 23,
   "metadata": {},
   "outputs": [
    {
     "data": {
      "application/vnd.plotly.v1+json": {
       "config": {
        "linkText": "Export to plot.ly",
        "plotlyServerURL": "https://plot.ly",
        "showLink": false
       },
       "data": [
        {
         "marker": {
          "color": "#d6a5ff"
         },
         "orientation": "h",
         "type": "bar",
         "uid": "1883f486-b1f0-4e27-bd6b-f0ad2abd4af2",
         "x": [
          33336,
          2848,
          2575,
          1812,
          1424,
          1211,
          1099,
          870,
          784,
          506,
          435,
          423,
          415,
          396,
          348
         ],
         "xaxis": "x",
         "y": [
          "not available in demo dataset",
          "Mountain View",
          "(not set)",
          "New York",
          "San Francisco",
          "Sunnyvale",
          "London",
          "San Jose",
          "Los Angeles",
          "Chicago",
          "Bengaluru",
          "Sydney",
          "Toronto",
          "Chennai",
          "Mumbai"
         ],
         "yaxis": "y"
        },
        {
         "marker": {
          "color": "#fca6da"
         },
         "orientation": "h",
         "type": "bar",
         "uid": "275ce72b-bd69-474c-b407-75d5a277e985",
         "x": [
          27218,
          3925,
          3164,
          2011,
          1433,
          1419,
          1256,
          1095,
          1063,
          805,
          777,
          741,
          652,
          613,
          569
         ],
         "xaxis": "x2",
         "y": [
          "United States",
          "India",
          "United Kingdom",
          "Canada",
          "Japan",
          "Germany",
          "Taiwan",
          "Australia",
          "France",
          "Brazil",
          "Italy",
          "Spain",
          "Mexico",
          "Netherlands",
          "Russia"
         ],
         "yaxis": "y2"
        },
        {
         "marker": {
          "color": "#f4d39c"
         },
         "orientation": "h",
         "type": "bar",
         "uid": "b4bf94df-3b17-45c9-a136-6bf8f6da3fdb",
         "x": [
          29233,
          4469,
          4399,
          3832,
          3751,
          2555,
          2335,
          2263,
          2157,
          1294,
          1273,
          796,
          374,
          193,
          146
         ],
         "xaxis": "x3",
         "y": [
          "Northern America",
          "Southern Asia",
          "Northern Europe",
          "Western Europe",
          "Eastern Asia",
          "Southeast Asia",
          "Eastern Europe",
          "Southern Europe",
          "South America",
          "Australasia",
          "Western Asia",
          "Central America",
          "Northern Africa",
          "Western Africa",
          "Caribbean"
         ],
         "yaxis": "y3"
        },
        {
         "marker": {
          "color": "#a9fcca"
         },
         "orientation": "h",
         "type": "bar",
         "uid": "d9efdac0-12c4-4dff-b3e4-e3a0d9c3a052",
         "x": [
          32332,
          12829,
          12081,
          1307,
          847,
          85
         ],
         "xaxis": "x4",
         "y": [
          "Americas",
          "Europe",
          "Asia",
          "Oceania",
          "Africa",
          "(not set)"
         ],
         "yaxis": "y4"
        }
       ],
       "layout": {
        "annotations": [
         {
          "font": {
           "size": 16
          },
          "showarrow": false,
          "text": "Visits: City",
          "x": 0.225,
          "xanchor": "center",
          "xref": "paper",
          "y": 1,
          "yanchor": "bottom",
          "yref": "paper"
         },
         {
          "font": {
           "size": 16
          },
          "showarrow": false,
          "text": "Visits: Country",
          "x": 0.775,
          "xanchor": "center",
          "xref": "paper",
          "y": 1,
          "yanchor": "bottom",
          "yref": "paper"
         },
         {
          "font": {
           "size": 16
          },
          "showarrow": false,
          "text": "Visits: Sub Continent",
          "x": 0.225,
          "xanchor": "center",
          "xref": "paper",
          "y": 0.375,
          "yanchor": "bottom",
          "yref": "paper"
         },
         {
          "font": {
           "size": 16
          },
          "showarrow": false,
          "text": "Visits: Continent",
          "x": 0.775,
          "xanchor": "center",
          "xref": "paper",
          "y": 0.375,
          "yanchor": "bottom",
          "yref": "paper"
         }
        ],
        "height": 600,
        "showlegend": false,
        "width": 1000,
        "xaxis": {
         "anchor": "y",
         "domain": [
          0,
          0.45
         ]
        },
        "xaxis2": {
         "anchor": "y2",
         "domain": [
          0.55,
          1
         ]
        },
        "xaxis3": {
         "anchor": "y3",
         "domain": [
          0,
          0.45
         ]
        },
        "xaxis4": {
         "anchor": "y4",
         "domain": [
          0.55,
          1
         ]
        },
        "yaxis": {
         "anchor": "x",
         "domain": [
          0.625,
          1
         ]
        },
        "yaxis2": {
         "anchor": "x2",
         "domain": [
          0.625,
          1
         ]
        },
        "yaxis3": {
         "anchor": "x3",
         "domain": [
          0,
          0.375
         ]
        },
        "yaxis4": {
         "anchor": "x4",
         "domain": [
          0,
          0.375
         ]
        }
       }
      },
      "text/html": [
       "<div>\n",
       "        \n",
       "        \n",
       "            <div id=\"ad5db190-b6ae-4fe5-82a9-861f80eefb27\" class=\"plotly-graph-div\" style=\"height:600px; width:1000px;\"></div>\n",
       "            <script type=\"text/javascript\">\n",
       "                require([\"plotly\"], function(Plotly) {\n",
       "                    window.PLOTLYENV=window.PLOTLYENV || {};\n",
       "                    window.PLOTLYENV.BASE_URL='https://plot.ly';\n",
       "                    \n",
       "                if (document.getElementById(\"ad5db190-b6ae-4fe5-82a9-861f80eefb27\")) {\n",
       "                    Plotly.newPlot(\n",
       "                        'ad5db190-b6ae-4fe5-82a9-861f80eefb27',\n",
       "                        [{\"marker\": {\"color\": \"#d6a5ff\"}, \"orientation\": \"h\", \"type\": \"bar\", \"uid\": \"1883f486-b1f0-4e27-bd6b-f0ad2abd4af2\", \"x\": [33336, 2848, 2575, 1812, 1424, 1211, 1099, 870, 784, 506, 435, 423, 415, 396, 348], \"xaxis\": \"x\", \"y\": [\"not available in demo dataset\", \"Mountain View\", \"(not set)\", \"New York\", \"San Francisco\", \"Sunnyvale\", \"London\", \"San Jose\", \"Los Angeles\", \"Chicago\", \"Bengaluru\", \"Sydney\", \"Toronto\", \"Chennai\", \"Mumbai\"], \"yaxis\": \"y\"}, {\"marker\": {\"color\": \"#fca6da\"}, \"orientation\": \"h\", \"type\": \"bar\", \"uid\": \"275ce72b-bd69-474c-b407-75d5a277e985\", \"x\": [27218, 3925, 3164, 2011, 1433, 1419, 1256, 1095, 1063, 805, 777, 741, 652, 613, 569], \"xaxis\": \"x2\", \"y\": [\"United States\", \"India\", \"United Kingdom\", \"Canada\", \"Japan\", \"Germany\", \"Taiwan\", \"Australia\", \"France\", \"Brazil\", \"Italy\", \"Spain\", \"Mexico\", \"Netherlands\", \"Russia\"], \"yaxis\": \"y2\"}, {\"marker\": {\"color\": \"#f4d39c\"}, \"orientation\": \"h\", \"type\": \"bar\", \"uid\": \"b4bf94df-3b17-45c9-a136-6bf8f6da3fdb\", \"x\": [29233, 4469, 4399, 3832, 3751, 2555, 2335, 2263, 2157, 1294, 1273, 796, 374, 193, 146], \"xaxis\": \"x3\", \"y\": [\"Northern America\", \"Southern Asia\", \"Northern Europe\", \"Western Europe\", \"Eastern Asia\", \"Southeast Asia\", \"Eastern Europe\", \"Southern Europe\", \"South America\", \"Australasia\", \"Western Asia\", \"Central America\", \"Northern Africa\", \"Western Africa\", \"Caribbean\"], \"yaxis\": \"y3\"}, {\"marker\": {\"color\": \"#a9fcca\"}, \"orientation\": \"h\", \"type\": \"bar\", \"uid\": \"d9efdac0-12c4-4dff-b3e4-e3a0d9c3a052\", \"x\": [32332, 12829, 12081, 1307, 847, 85], \"xaxis\": \"x4\", \"y\": [\"Americas\", \"Europe\", \"Asia\", \"Oceania\", \"Africa\", \"(not set)\"], \"yaxis\": \"y4\"}],\n",
       "                        {\"annotations\": [{\"font\": {\"size\": 16}, \"showarrow\": false, \"text\": \"Visits: City\", \"x\": 0.225, \"xanchor\": \"center\", \"xref\": \"paper\", \"y\": 1.0, \"yanchor\": \"bottom\", \"yref\": \"paper\"}, {\"font\": {\"size\": 16}, \"showarrow\": false, \"text\": \"Visits: Country\", \"x\": 0.775, \"xanchor\": \"center\", \"xref\": \"paper\", \"y\": 1.0, \"yanchor\": \"bottom\", \"yref\": \"paper\"}, {\"font\": {\"size\": 16}, \"showarrow\": false, \"text\": \"Visits: Sub Continent\", \"x\": 0.225, \"xanchor\": \"center\", \"xref\": \"paper\", \"y\": 0.375, \"yanchor\": \"bottom\", \"yref\": \"paper\"}, {\"font\": {\"size\": 16}, \"showarrow\": false, \"text\": \"Visits: Continent\", \"x\": 0.775, \"xanchor\": \"center\", \"xref\": \"paper\", \"y\": 0.375, \"yanchor\": \"bottom\", \"yref\": \"paper\"}], \"height\": 600, \"showlegend\": false, \"width\": 1000, \"xaxis\": {\"anchor\": \"y\", \"domain\": [0.0, 0.45]}, \"xaxis2\": {\"anchor\": \"y2\", \"domain\": [0.55, 1.0]}, \"xaxis3\": {\"anchor\": \"y3\", \"domain\": [0.0, 0.45]}, \"xaxis4\": {\"anchor\": \"y4\", \"domain\": [0.55, 1.0]}, \"yaxis\": {\"anchor\": \"x\", \"domain\": [0.625, 1.0]}, \"yaxis2\": {\"anchor\": \"x2\", \"domain\": [0.625, 1.0]}, \"yaxis3\": {\"anchor\": \"x3\", \"domain\": [0.0, 0.375]}, \"yaxis4\": {\"anchor\": \"x4\", \"domain\": [0.0, 0.375]}},\n",
       "                        {\"showLink\": false, \"linkText\": \"Export to plot.ly\", \"plotlyServerURL\": \"https://plot.ly\", \"responsive\": true}\n",
       "                    ).then(function(){\n",
       "                            \n",
       "var gd = document.getElementById('ad5db190-b6ae-4fe5-82a9-861f80eefb27');\n",
       "var x = new MutationObserver(function (mutations, observer) {{\n",
       "        var display = window.getComputedStyle(gd).display;\n",
       "        if (!display || display === 'none') {{\n",
       "            console.log([gd, 'removed!']);\n",
       "            Plotly.purge(gd);\n",
       "            observer.disconnect();\n",
       "        }}\n",
       "}});\n",
       "\n",
       "// Listen for the removal of the full notebook cells\n",
       "var notebookContainer = gd.closest('#notebook-container');\n",
       "if (notebookContainer) {{\n",
       "    x.observe(notebookContainer, {childList: true});\n",
       "}}\n",
       "\n",
       "// Listen for the clearing of the current output cell\n",
       "var outputEl = gd.closest('.output');\n",
       "if (outputEl) {{\n",
       "    x.observe(outputEl, {childList: true});\n",
       "}}\n",
       "\n",
       "                        })\n",
       "                };\n",
       "                });\n",
       "            </script>\n",
       "        </div>"
      ]
     },
     "metadata": {},
     "output_type": "display_data"
    },
    {
     "name": "stderr",
     "output_type": "stream",
     "text": [
      "/usr/local/lib/python3.6/dist-packages/ipykernel_launcher.py:21: SettingWithCopyWarning:\n",
      "\n",
      "\n",
      "A value is trying to be set on a copy of a slice from a DataFrame.\n",
      "Try using .loc[row_indexer,col_indexer] = value instead\n",
      "\n",
      "See the caveats in the documentation: http://pandas.pydata.org/pandas-docs/stable/indexing.html#indexing-view-versus-copy\n",
      "\n"
     ]
    },
    {
     "data": {
      "application/vnd.plotly.v1+json": {
       "config": {
        "linkText": "Export to plot.ly",
        "plotlyServerURL": "https://plot.ly",
        "showLink": false
       },
       "data": [
        {
         "marker": {
          "color": "red",
          "opacity": 0.5
         },
         "orientation": "h",
         "type": "bar",
         "uid": "8c0250b3-54e9-4ae0-a8f8-d53b1c4e5559",
         "x": [
          37555714.28571428,
          142775625,
          191011428.57142857,
          102402666.66666667,
          32280000,
          256200000,
          380666666.6666667,
          43160000,
          142380000,
          125114000,
          44290000,
          29776000,
          86803750,
          38670000,
          188843333.33333334,
          128774000,
          55980000,
          41976000,
          32000000,
          40831666.666666664,
          319365000,
          35293333.333333336,
          31030000,
          29670000,
          78270000,
          72660000,
          66050000,
          126428478.26086956,
          47800000,
          63970000,
          125700000,
          43630000,
          40950000,
          150093333.33333334,
          163430000,
          2490000000,
          248574000,
          76263333.33333333,
          95483478.26086956,
          52626470.5882353,
          141505000,
          163704615.3846154,
          113589090.9090909,
          127839104.47761194,
          18990000,
          41223333.333333336,
          37990000,
          356790000,
          75561666.66666667,
          110016655.1724138
         ],
         "xaxis": "x",
         "y": [
          "(not set)",
          "Ann Arbor",
          "Atlanta",
          "Austin",
          "Barcelona",
          "Berlin",
          "Boston",
          "Boulder",
          "Cambridge",
          "Chicago",
          "Cupertino",
          "Dallas",
          "Denver",
          "Fremont",
          "Houston",
          "Irvine",
          "Jakarta",
          "Kirkland",
          "Kuala Lumpur",
          "Lake Oswego",
          "London",
          "Los Angeles",
          "Milpitas",
          "Minneapolis",
          "Montreal",
          "Mountain View",
          "Nashville",
          "New York",
          "Oakland",
          "Palo Alto",
          "Paris",
          "Phoenix",
          "Pittsburgh",
          "Redmond",
          "Redwood City",
          "Salem",
          "San Bruno",
          "San Diego",
          "San Francisco",
          "San Jose",
          "San Mateo",
          "Santa Clara",
          "Seattle",
          "Sunnyvale",
          "Tel Aviv-Yafo",
          "Toronto",
          "Vancouver",
          "Walnut Creek",
          "Washington",
          "not available in demo dataset"
         ],
         "yaxis": "y"
        },
        {
         "marker": {
          "color": "green",
          "opacity": 0.5
         },
         "orientation": "h",
         "type": "bar",
         "uid": "4041ca7c-8fb0-4c99-834f-b4f0f0f6488b",
         "x": [
          13290000,
          47810000,
          25490000,
          2990000,
          125700000,
          147090000,
          31980000,
          13290000,
          47985000,
          23935000,
          104100000,
          32000000,
          1508000000,
          79160000,
          102260000,
          63890000,
          319365000,
          110473473.05389221
         ],
         "xaxis": "x2",
         "y": [
          "(not set)",
          "Canada",
          "China",
          "Finland",
          "France",
          "Germany",
          "Greece",
          "India",
          "Indonesia",
          "Israel",
          "Italy",
          "Malaysia",
          "Nigeria",
          "Philippines",
          "St. Lucia",
          "Switzerland",
          "United Kingdom",
          "United States"
         ],
         "yaxis": "y2"
        },
        {
         "marker": {
          "color": "purple",
          "opacity": 0.5
         },
         "orientation": "h",
         "type": "bar",
         "uid": "b37608de-a430-4995-b3fd-27e0c653a793",
         "x": [
          13290000,
          102260000,
          25490000,
          109512830.18867925,
          213906666.66666666,
          51782500,
          13290000,
          68040000,
          1508000000,
          23935000,
          120942500
         ],
         "xaxis": "x3",
         "y": [
          "(not set)",
          "Caribbean",
          "Eastern Asia",
          "Northern America",
          "Northern Europe",
          "Southeast Asia",
          "Southern Asia",
          "Southern Europe",
          "Western Africa",
          "Western Asia",
          "Western Europe"
         ],
         "yaxis": "y3"
        },
        {
         "marker": {
          "color": "blue",
          "opacity": 0.5
         },
         "orientation": "h",
         "type": "bar",
         "uid": "b5ad4177-2bc9-4ff2-b948-8725123ccf9b",
         "x": [
          13290000,
          1508000000,
          109504287.39693758,
          36722500,
          140174444.44444445
         ],
         "xaxis": "x4",
         "y": [
          "(not set)",
          "Africa",
          "Americas",
          "Asia",
          "Europe"
         ],
         "yaxis": "y4"
        }
       ],
       "layout": {
        "annotations": [
         {
          "font": {
           "size": 16
          },
          "showarrow": false,
          "text": "Mean Revenue by City",
          "x": 0.225,
          "xanchor": "center",
          "xref": "paper",
          "y": 1,
          "yanchor": "bottom",
          "yref": "paper"
         },
         {
          "font": {
           "size": 16
          },
          "showarrow": false,
          "text": "Mean Revenue by Country",
          "x": 0.775,
          "xanchor": "center",
          "xref": "paper",
          "y": 1,
          "yanchor": "bottom",
          "yref": "paper"
         },
         {
          "font": {
           "size": 16
          },
          "showarrow": false,
          "text": "Mean Revenue by Sub Continent",
          "x": 0.225,
          "xanchor": "center",
          "xref": "paper",
          "y": 0.375,
          "yanchor": "bottom",
          "yref": "paper"
         },
         {
          "font": {
           "size": 16
          },
          "showarrow": false,
          "text": "Mean Revenue by Continent",
          "x": 0.775,
          "xanchor": "center",
          "xref": "paper",
          "y": 0.375,
          "yanchor": "bottom",
          "yref": "paper"
         }
        ],
        "height": 600,
        "showlegend": false,
        "width": 1000,
        "xaxis": {
         "anchor": "y",
         "domain": [
          0,
          0.45
         ]
        },
        "xaxis2": {
         "anchor": "y2",
         "domain": [
          0.55,
          1
         ]
        },
        "xaxis3": {
         "anchor": "y3",
         "domain": [
          0,
          0.45
         ]
        },
        "xaxis4": {
         "anchor": "y4",
         "domain": [
          0.55,
          1
         ]
        },
        "yaxis": {
         "anchor": "x",
         "domain": [
          0.625,
          1
         ]
        },
        "yaxis2": {
         "anchor": "x2",
         "domain": [
          0.625,
          1
         ]
        },
        "yaxis3": {
         "anchor": "x3",
         "domain": [
          0,
          0.375
         ]
        },
        "yaxis4": {
         "anchor": "x4",
         "domain": [
          0,
          0.375
         ]
        }
       }
      },
      "text/html": [
       "<div>\n",
       "        \n",
       "        \n",
       "            <div id=\"9dbc3afe-2d2a-465d-b61d-56b159e41e0d\" class=\"plotly-graph-div\" style=\"height:600px; width:1000px;\"></div>\n",
       "            <script type=\"text/javascript\">\n",
       "                require([\"plotly\"], function(Plotly) {\n",
       "                    window.PLOTLYENV=window.PLOTLYENV || {};\n",
       "                    window.PLOTLYENV.BASE_URL='https://plot.ly';\n",
       "                    \n",
       "                if (document.getElementById(\"9dbc3afe-2d2a-465d-b61d-56b159e41e0d\")) {\n",
       "                    Plotly.newPlot(\n",
       "                        '9dbc3afe-2d2a-465d-b61d-56b159e41e0d',\n",
       "                        [{\"marker\": {\"color\": \"red\", \"opacity\": 0.5}, \"orientation\": \"h\", \"type\": \"bar\", \"uid\": \"8c0250b3-54e9-4ae0-a8f8-d53b1c4e5559\", \"x\": [37555714.28571428, 142775625.0, 191011428.57142857, 102402666.66666667, 32280000.0, 256200000.0, 380666666.6666667, 43160000.0, 142380000.0, 125114000.0, 44290000.0, 29776000.0, 86803750.0, 38670000.0, 188843333.33333334, 128774000.0, 55980000.0, 41976000.0, 32000000.0, 40831666.666666664, 319365000.0, 35293333.333333336, 31030000.0, 29670000.0, 78270000.0, 72660000.0, 66050000.0, 126428478.26086956, 47800000.0, 63970000.0, 125700000.0, 43630000.0, 40950000.0, 150093333.33333334, 163430000.0, 2490000000.0, 248574000.0, 76263333.33333333, 95483478.26086956, 52626470.5882353, 141505000.0, 163704615.3846154, 113589090.9090909, 127839104.47761194, 18990000.0, 41223333.333333336, 37990000.0, 356790000.0, 75561666.66666667, 110016655.1724138], \"xaxis\": \"x\", \"y\": [\"(not set)\", \"Ann Arbor\", \"Atlanta\", \"Austin\", \"Barcelona\", \"Berlin\", \"Boston\", \"Boulder\", \"Cambridge\", \"Chicago\", \"Cupertino\", \"Dallas\", \"Denver\", \"Fremont\", \"Houston\", \"Irvine\", \"Jakarta\", \"Kirkland\", \"Kuala Lumpur\", \"Lake Oswego\", \"London\", \"Los Angeles\", \"Milpitas\", \"Minneapolis\", \"Montreal\", \"Mountain View\", \"Nashville\", \"New York\", \"Oakland\", \"Palo Alto\", \"Paris\", \"Phoenix\", \"Pittsburgh\", \"Redmond\", \"Redwood City\", \"Salem\", \"San Bruno\", \"San Diego\", \"San Francisco\", \"San Jose\", \"San Mateo\", \"Santa Clara\", \"Seattle\", \"Sunnyvale\", \"Tel Aviv-Yafo\", \"Toronto\", \"Vancouver\", \"Walnut Creek\", \"Washington\", \"not available in demo dataset\"], \"yaxis\": \"y\"}, {\"marker\": {\"color\": \"green\", \"opacity\": 0.5}, \"orientation\": \"h\", \"type\": \"bar\", \"uid\": \"4041ca7c-8fb0-4c99-834f-b4f0f0f6488b\", \"x\": [13290000.0, 47810000.0, 25490000.0, 2990000.0, 125700000.0, 147090000.0, 31980000.0, 13290000.0, 47985000.0, 23935000.0, 104100000.0, 32000000.0, 1508000000.0, 79160000.0, 102260000.0, 63890000.0, 319365000.0, 110473473.05389221], \"xaxis\": \"x2\", \"y\": [\"(not set)\", \"Canada\", \"China\", \"Finland\", \"France\", \"Germany\", \"Greece\", \"India\", \"Indonesia\", \"Israel\", \"Italy\", \"Malaysia\", \"Nigeria\", \"Philippines\", \"St. Lucia\", \"Switzerland\", \"United Kingdom\", \"United States\"], \"yaxis\": \"y2\"}, {\"marker\": {\"color\": \"purple\", \"opacity\": 0.5}, \"orientation\": \"h\", \"type\": \"bar\", \"uid\": \"b37608de-a430-4995-b3fd-27e0c653a793\", \"x\": [13290000.0, 102260000.0, 25490000.0, 109512830.18867925, 213906666.66666666, 51782500.0, 13290000.0, 68040000.0, 1508000000.0, 23935000.0, 120942500.0], \"xaxis\": \"x3\", \"y\": [\"(not set)\", \"Caribbean\", \"Eastern Asia\", \"Northern America\", \"Northern Europe\", \"Southeast Asia\", \"Southern Asia\", \"Southern Europe\", \"Western Africa\", \"Western Asia\", \"Western Europe\"], \"yaxis\": \"y3\"}, {\"marker\": {\"color\": \"blue\", \"opacity\": 0.5}, \"orientation\": \"h\", \"type\": \"bar\", \"uid\": \"b5ad4177-2bc9-4ff2-b948-8725123ccf9b\", \"x\": [13290000.0, 1508000000.0, 109504287.39693758, 36722500.0, 140174444.44444445], \"xaxis\": \"x4\", \"y\": [\"(not set)\", \"Africa\", \"Americas\", \"Asia\", \"Europe\"], \"yaxis\": \"y4\"}],\n",
       "                        {\"annotations\": [{\"font\": {\"size\": 16}, \"showarrow\": false, \"text\": \"Mean Revenue by City\", \"x\": 0.225, \"xanchor\": \"center\", \"xref\": \"paper\", \"y\": 1.0, \"yanchor\": \"bottom\", \"yref\": \"paper\"}, {\"font\": {\"size\": 16}, \"showarrow\": false, \"text\": \"Mean Revenue by Country\", \"x\": 0.775, \"xanchor\": \"center\", \"xref\": \"paper\", \"y\": 1.0, \"yanchor\": \"bottom\", \"yref\": \"paper\"}, {\"font\": {\"size\": 16}, \"showarrow\": false, \"text\": \"Mean Revenue by Sub Continent\", \"x\": 0.225, \"xanchor\": \"center\", \"xref\": \"paper\", \"y\": 0.375, \"yanchor\": \"bottom\", \"yref\": \"paper\"}, {\"font\": {\"size\": 16}, \"showarrow\": false, \"text\": \"Mean Revenue by Continent\", \"x\": 0.775, \"xanchor\": \"center\", \"xref\": \"paper\", \"y\": 0.375, \"yanchor\": \"bottom\", \"yref\": \"paper\"}], \"height\": 600, \"showlegend\": false, \"width\": 1000, \"xaxis\": {\"anchor\": \"y\", \"domain\": [0.0, 0.45]}, \"xaxis2\": {\"anchor\": \"y2\", \"domain\": [0.55, 1.0]}, \"xaxis3\": {\"anchor\": \"y3\", \"domain\": [0.0, 0.45]}, \"xaxis4\": {\"anchor\": \"y4\", \"domain\": [0.55, 1.0]}, \"yaxis\": {\"anchor\": \"x\", \"domain\": [0.625, 1.0]}, \"yaxis2\": {\"anchor\": \"x2\", \"domain\": [0.625, 1.0]}, \"yaxis3\": {\"anchor\": \"x3\", \"domain\": [0.0, 0.375]}, \"yaxis4\": {\"anchor\": \"x4\", \"domain\": [0.0, 0.375]}},\n",
       "                        {\"showLink\": false, \"linkText\": \"Export to plot.ly\", \"plotlyServerURL\": \"https://plot.ly\", \"responsive\": true}\n",
       "                    ).then(function(){\n",
       "                            \n",
       "var gd = document.getElementById('9dbc3afe-2d2a-465d-b61d-56b159e41e0d');\n",
       "var x = new MutationObserver(function (mutations, observer) {{\n",
       "        var display = window.getComputedStyle(gd).display;\n",
       "        if (!display || display === 'none') {{\n",
       "            console.log([gd, 'removed!']);\n",
       "            Plotly.purge(gd);\n",
       "            observer.disconnect();\n",
       "        }}\n",
       "}});\n",
       "\n",
       "// Listen for the removal of the full notebook cells\n",
       "var notebookContainer = gd.closest('#notebook-container');\n",
       "if (notebookContainer) {{\n",
       "    x.observe(notebookContainer, {childList: true});\n",
       "}}\n",
       "\n",
       "// Listen for the clearing of the current output cell\n",
       "var outputEl = gd.closest('.output');\n",
       "if (outputEl) {{\n",
       "    x.observe(outputEl, {childList: true});\n",
       "}}\n",
       "\n",
       "                        })\n",
       "                };\n",
       "                });\n",
       "            </script>\n",
       "        </div>"
      ]
     },
     "metadata": {},
     "output_type": "display_data"
    }
   ],
   "source": [
    "\n",
    "\n",
    "geo_cols = [\"geoNetwork_city\", \"geoNetwork_country\", \"geoNetwork_subContinent\", \"geoNetwork_continent\"]\n",
    "colors = [\"#d6a5ff\", \"#fca6da\", \"#f4d39c\", \"#a9fcca\"]\n",
    "traces = []\n",
    "for i, col in enumerate(geo_cols):\n",
    "    t = train[col].value_counts()\n",
    "    traces.append(go.Bar(marker=dict(color=colors[i]),orientation=\"h\", y = t.index[:15], x = t.values[:15]))\n",
    "\n",
    "fig = tools.make_subplots(rows=2, cols=2, \n",
    "                          subplot_titles=[\"Visits: City\", \"Visits: Country\",\"Visits: Sub Continent\",\"Visits: Continent\"]\n",
    "                          , print_grid=False)\n",
    "fig.append_trace(traces[0], 1, 1)\n",
    "fig.append_trace(traces[1], 1, 2)\n",
    "fig.append_trace(traces[2], 2, 1)\n",
    "fig.append_trace(traces[3], 2, 2)\n",
    "\n",
    "fig['layout'].update(height=600,width=1000, showlegend=False)\n",
    "iplot(fig)\n",
    "\n",
    "train[\"totals_transactionRevenue\"] = train[\"totals_transactionRevenue\"].astype('float')\n",
    "\n",
    "fig = tools.make_subplots(rows=2, cols=2, subplot_titles=[\"Mean Revenue by City\", \"Mean Revenue by Country\",\"Mean Revenue by Sub Continent\",\"Mean Revenue by Continent\"], print_grid=False)\n",
    "\n",
    "colors = [\"red\", \"green\", \"purple\",\"blue\"]\n",
    "trs = []\n",
    "for i, col in enumerate(geo_cols):\n",
    "    tmp = train.groupby(col).agg({\"totals_transactionRevenue\": \"mean\"}).reset_index().rename(columns={\"totals_transactionRevenue\" : \"Mean Revenue\"})\n",
    "    tmp = tmp.dropna()\n",
    "    tr = go.Bar(x = tmp[\"Mean Revenue\"], orientation=\"h\", marker=dict(opacity=0.5, color=colors[i]), y = tmp[col])\n",
    "    trs.append(tr)\n",
    "\n",
    "fig.append_trace(trs[0], 1, 1)\n",
    "fig.append_trace(trs[1], 1, 2)\n",
    "fig.append_trace(trs[2], 2, 1)\n",
    "fig.append_trace(trs[3], 2, 2)\n",
    "\n",
    "fig['layout'].update(height=600,width=1000, showlegend=False)\n",
    "iplot(fig)\n",
    "\n"
   ]
  },
  {
   "cell_type": "code",
   "execution_count": 24,
   "metadata": {},
   "outputs": [
    {
     "data": {
      "application/vnd.plotly.v1+json": {
       "config": {
        "linkText": "Export to plot.ly",
        "plotlyServerURL": "https://plot.ly",
        "showLink": false
       },
       "data": [
        {
         "domain": {
          "x": [
           0,
           0.48
          ]
         },
         "hole": 0.7,
         "hoverinfo": "label+percent+name",
         "labels": [
          "Organic Search",
          "Direct",
          "Referral",
          "Social",
          "Paid Search",
          "Affiliates",
          "Display",
          "(Other)"
         ],
         "marker": {
          "colors": [
           "#f77b9c",
           "#ab97db",
           "#b0b1b2"
          ]
         },
         "name": "Channel Grouping",
         "type": "pie",
         "uid": "26a15055-ce44-42f5-a73b-84f2417a2083",
         "values": [
          31243,
          10086,
          7919,
          6424,
          1728,
          1505,
          575,
          1
         ]
        }
       ],
       "layout": {
        "annotations": [
         {
          "font": {
           "size": 20
          },
          "showarrow": false,
          "text": "Channel Grouping",
          "x": 0.11,
          "y": 0.5
         }
        ],
        "title": {
         "text": "Channel Grouping"
        }
       }
      },
      "text/html": [
       "<div>\n",
       "        \n",
       "        \n",
       "            <div id=\"5f59c82b-367b-457b-b288-a968a9e23bd3\" class=\"plotly-graph-div\" style=\"height:525px; width:100%;\"></div>\n",
       "            <script type=\"text/javascript\">\n",
       "                require([\"plotly\"], function(Plotly) {\n",
       "                    window.PLOTLYENV=window.PLOTLYENV || {};\n",
       "                    window.PLOTLYENV.BASE_URL='https://plot.ly';\n",
       "                    \n",
       "                if (document.getElementById(\"5f59c82b-367b-457b-b288-a968a9e23bd3\")) {\n",
       "                    Plotly.newPlot(\n",
       "                        '5f59c82b-367b-457b-b288-a968a9e23bd3',\n",
       "                        [{\"domain\": {\"x\": [0, 0.48]}, \"hole\": 0.7, \"hoverinfo\": \"label+percent+name\", \"labels\": [\"Organic Search\", \"Direct\", \"Referral\", \"Social\", \"Paid Search\", \"Affiliates\", \"Display\", \"(Other)\"], \"marker\": {\"colors\": [\"#f77b9c\", \"#ab97db\", \"#b0b1b2\"]}, \"name\": \"Channel Grouping\", \"type\": \"pie\", \"uid\": \"26a15055-ce44-42f5-a73b-84f2417a2083\", \"values\": [31243, 10086, 7919, 6424, 1728, 1505, 575, 1]}],\n",
       "                        {\"annotations\": [{\"font\": {\"size\": 20}, \"showarrow\": false, \"text\": \"Channel Grouping\", \"x\": 0.11, \"y\": 0.5}], \"title\": {\"text\": \"Channel Grouping\"}},\n",
       "                        {\"showLink\": false, \"linkText\": \"Export to plot.ly\", \"plotlyServerURL\": \"https://plot.ly\", \"responsive\": true}\n",
       "                    ).then(function(){\n",
       "                            \n",
       "var gd = document.getElementById('5f59c82b-367b-457b-b288-a968a9e23bd3');\n",
       "var x = new MutationObserver(function (mutations, observer) {{\n",
       "        var display = window.getComputedStyle(gd).display;\n",
       "        if (!display || display === 'none') {{\n",
       "            console.log([gd, 'removed!']);\n",
       "            Plotly.purge(gd);\n",
       "            observer.disconnect();\n",
       "        }}\n",
       "}});\n",
       "\n",
       "// Listen for the removal of the full notebook cells\n",
       "var notebookContainer = gd.closest('#notebook-container');\n",
       "if (notebookContainer) {{\n",
       "    x.observe(notebookContainer, {childList: true});\n",
       "}}\n",
       "\n",
       "// Listen for the clearing of the current output cell\n",
       "var outputEl = gd.closest('.output');\n",
       "if (outputEl) {{\n",
       "    x.observe(outputEl, {childList: true});\n",
       "}}\n",
       "\n",
       "                        })\n",
       "                };\n",
       "                });\n",
       "            </script>\n",
       "        </div>"
      ]
     },
     "metadata": {},
     "output_type": "display_data"
    }
   ],
   "source": [
    "t = train['channelGrouping'].value_counts()\n",
    "values1 = t.values \n",
    "index1 = t.index\n",
    "domain1 = {'x': [0.2, 0.50], 'y': [0.0, 0.33]}\n",
    "fig = {\n",
    "  \"data\": [\n",
    "    {\n",
    "      \"values\": values1,\n",
    "      \"labels\": index1,\n",
    "      \"domain\": {\"x\": [0, .48]},\n",
    "    \"marker\" : dict(colors=[\"#f77b9c\" ,'#ab97db',  '#b0b1b2']),\n",
    "      \"name\": \"Channel Grouping\",\n",
    "      \"hoverinfo\":\"label+percent+name\",\n",
    "      \"hole\": .7,\n",
    "      \"type\": \"pie\"\n",
    "    }\n",
    "   ],\n",
    "  \"layout\": {\"title\":\"Channel Grouping\",\n",
    "      \"annotations\": [\n",
    "            {\n",
    "                \"font\": {\n",
    "                    \"size\": 20\n",
    "                },\n",
    "                \"showarrow\": False,\n",
    "                \"text\": \"Channel Grouping\",\n",
    "                \"x\": 0.11,\n",
    "                \"y\": 0.5\n",
    "            }\n",
    "        ]\n",
    "    }\n",
    "}\n",
    "iplot(fig)"
   ]
  },
  {
   "cell_type": "code",
   "execution_count": 25,
   "metadata": {},
   "outputs": [
    {
     "data": {
      "application/vnd.plotly.v1+json": {
       "config": {
        "linkText": "Export to plot.ly",
        "plotlyServerURL": "https://plot.ly",
        "showLink": false
       },
       "data": [
        {
         "marker": {
          "color": "#fca6da"
         },
         "type": "bar",
         "uid": "46bd3d08-b3ce-4f24-9fd5-82a12feae938",
         "x": [
          "(not set)",
          "Data Share Promo",
          "AW - Dynamic Search Ads Whole Site",
          "AW - Accessories",
          "AW - Apparel"
         ],
         "xaxis": "x",
         "y": [
          56464,
          1505,
          1118,
          392,
          2
         ],
         "yaxis": "y"
        },
        {
         "marker": {
          "color": "#f4d39c"
         },
         "type": "bar",
         "uid": "73037cf7-1d14-46d3-9ad9-036f788cc8ed",
         "x": [
          "organic",
          "(none)",
          "referral",
          "cpc",
          "affiliate",
          "cpm",
          "(not set)"
         ],
         "xaxis": "x2",
         "y": [
          29174,
          17495,
          9153,
          1597,
          1505,
          556,
          1
         ],
         "yaxis": "y2"
        }
       ],
       "layout": {
        "annotations": [
         {
          "font": {
           "size": 16
          },
          "showarrow": false,
          "text": "Traffic Source Campaign (not-set removed)",
          "x": 0.225,
          "xanchor": "center",
          "xref": "paper",
          "y": 1,
          "yanchor": "bottom",
          "yref": "paper"
         },
         {
          "font": {
           "size": 16
          },
          "showarrow": false,
          "text": "Traffic Source Medium",
          "x": 0.775,
          "xanchor": "center",
          "xref": "paper",
          "y": 1,
          "yanchor": "bottom",
          "yref": "paper"
         }
        ],
        "height": 400,
        "margin": {
         "b": 100
        },
        "showlegend": false,
        "xaxis": {
         "anchor": "y",
         "domain": [
          0,
          0.45
         ]
        },
        "xaxis2": {
         "anchor": "y2",
         "domain": [
          0.55,
          1
         ]
        },
        "yaxis": {
         "anchor": "x",
         "domain": [
          0,
          1
         ]
        },
        "yaxis2": {
         "anchor": "x2",
         "domain": [
          0,
          1
         ]
        }
       }
      },
      "text/html": [
       "<div>\n",
       "        \n",
       "        \n",
       "            <div id=\"d2f215b9-d936-4cb7-9ac6-6314a998f551\" class=\"plotly-graph-div\" style=\"height:400px; width:100%;\"></div>\n",
       "            <script type=\"text/javascript\">\n",
       "                require([\"plotly\"], function(Plotly) {\n",
       "                    window.PLOTLYENV=window.PLOTLYENV || {};\n",
       "                    window.PLOTLYENV.BASE_URL='https://plot.ly';\n",
       "                    \n",
       "                if (document.getElementById(\"d2f215b9-d936-4cb7-9ac6-6314a998f551\")) {\n",
       "                    Plotly.newPlot(\n",
       "                        'd2f215b9-d936-4cb7-9ac6-6314a998f551',\n",
       "                        [{\"marker\": {\"color\": \"#fca6da\"}, \"type\": \"bar\", \"uid\": \"46bd3d08-b3ce-4f24-9fd5-82a12feae938\", \"x\": [\"(not set)\", \"Data Share Promo\", \"AW - Dynamic Search Ads Whole Site\", \"AW - Accessories\", \"AW - Apparel\"], \"xaxis\": \"x\", \"y\": [56464, 1505, 1118, 392, 2], \"yaxis\": \"y\"}, {\"marker\": {\"color\": \"#f4d39c\"}, \"type\": \"bar\", \"uid\": \"73037cf7-1d14-46d3-9ad9-036f788cc8ed\", \"x\": [\"organic\", \"(none)\", \"referral\", \"cpc\", \"affiliate\", \"cpm\", \"(not set)\"], \"xaxis\": \"x2\", \"y\": [29174, 17495, 9153, 1597, 1505, 556, 1], \"yaxis\": \"y2\"}],\n",
       "                        {\"annotations\": [{\"font\": {\"size\": 16}, \"showarrow\": false, \"text\": \"Traffic Source Campaign (not-set removed)\", \"x\": 0.225, \"xanchor\": \"center\", \"xref\": \"paper\", \"y\": 1.0, \"yanchor\": \"bottom\", \"yref\": \"paper\"}, {\"font\": {\"size\": 16}, \"showarrow\": false, \"text\": \"Traffic Source Medium\", \"x\": 0.775, \"xanchor\": \"center\", \"xref\": \"paper\", \"y\": 1.0, \"yanchor\": \"bottom\", \"yref\": \"paper\"}], \"height\": 400, \"margin\": {\"b\": 100}, \"showlegend\": false, \"xaxis\": {\"anchor\": \"y\", \"domain\": [0.0, 0.45]}, \"xaxis2\": {\"anchor\": \"y2\", \"domain\": [0.55, 1.0]}, \"yaxis\": {\"anchor\": \"x\", \"domain\": [0.0, 1.0]}, \"yaxis2\": {\"anchor\": \"x2\", \"domain\": [0.0, 1.0]}},\n",
       "                        {\"showLink\": false, \"linkText\": \"Export to plot.ly\", \"plotlyServerURL\": \"https://plot.ly\", \"responsive\": true}\n",
       "                    ).then(function(){\n",
       "                            \n",
       "var gd = document.getElementById('d2f215b9-d936-4cb7-9ac6-6314a998f551');\n",
       "var x = new MutationObserver(function (mutations, observer) {{\n",
       "        var display = window.getComputedStyle(gd).display;\n",
       "        if (!display || display === 'none') {{\n",
       "            console.log([gd, 'removed!']);\n",
       "            Plotly.purge(gd);\n",
       "            observer.disconnect();\n",
       "        }}\n",
       "}});\n",
       "\n",
       "// Listen for the removal of the full notebook cells\n",
       "var notebookContainer = gd.closest('#notebook-container');\n",
       "if (notebookContainer) {{\n",
       "    x.observe(notebookContainer, {childList: true});\n",
       "}}\n",
       "\n",
       "// Listen for the clearing of the current output cell\n",
       "var outputEl = gd.closest('.output');\n",
       "if (outputEl) {{\n",
       "    x.observe(outputEl, {childList: true});\n",
       "}}\n",
       "\n",
       "                        })\n",
       "                };\n",
       "                });\n",
       "            </script>\n",
       "        </div>"
      ]
     },
     "metadata": {},
     "output_type": "display_data"
    }
   ],
   "source": [
    "\n",
    "\n",
    "fig = tools.make_subplots(rows=1, cols=2,subplot_titles=[\"Traffic Source Campaign (not-set removed)\", \"Traffic Source Medium\"], print_grid=False)\n",
    " \n",
    "colors = [\"#d6a5ff\", \"#fca6da\", \"#f4d39c\", \"#a9fcca\"]\n",
    "t1 = train[\"trafficSource_campaign\"].value_counts()\n",
    "t2 = train[\"trafficSource_medium\"].value_counts()\n",
    "\n",
    "tr1 = go.Bar(x = t1.index, y = t1.values, marker=dict(color=colors[1]))\n",
    "tr2 = go.Bar(x = t2.index, y = t2.values, marker=dict(color=colors[2]))\n",
    "\n",
    "fig.append_trace(tr1, 1, 1)\n",
    "fig.append_trace(tr2, 1, 2)\n",
    "\n",
    "\n",
    "fig['layout'].update(height=400, margin=dict(b=100), showlegend=False)\n",
    "iplot(fig)\n",
    "\n"
   ]
  },
  {
   "cell_type": "code",
   "execution_count": 26,
   "metadata": {},
   "outputs": [],
   "source": [
    "def add_date_features(df):\n",
    "    df['date'] = df['date'].astype(str)\n",
    "    df[\"date\"] = df[\"date\"].apply(lambda x : x[:4] + \"-\" + x[4:6] + \"-\" + x[6:])\n",
    "    df[\"date\"] = pd.to_datetime(df[\"date\"])\n",
    "    \n",
    "    df[\"month\"]   = df['date'].dt.month\n",
    "    df[\"day\"]     = df['date'].dt.day\n",
    "    df[\"weekday\"] = df['date'].dt.weekday\n",
    "    return df"
   ]
  },
  {
   "cell_type": "code",
   "execution_count": 27,
   "metadata": {},
   "outputs": [
    {
     "name": "stderr",
     "output_type": "stream",
     "text": [
      "/usr/local/lib/python3.6/dist-packages/ipykernel_launcher.py:2: SettingWithCopyWarning:\n",
      "\n",
      "\n",
      "A value is trying to be set on a copy of a slice from a DataFrame.\n",
      "Try using .loc[row_indexer,col_indexer] = value instead\n",
      "\n",
      "See the caveats in the documentation: http://pandas.pydata.org/pandas-docs/stable/indexing.html#indexing-view-versus-copy\n",
      "\n",
      "/usr/local/lib/python3.6/dist-packages/ipykernel_launcher.py:3: SettingWithCopyWarning:\n",
      "\n",
      "\n",
      "A value is trying to be set on a copy of a slice from a DataFrame.\n",
      "Try using .loc[row_indexer,col_indexer] = value instead\n",
      "\n",
      "See the caveats in the documentation: http://pandas.pydata.org/pandas-docs/stable/indexing.html#indexing-view-versus-copy\n",
      "\n",
      "/usr/local/lib/python3.6/dist-packages/ipykernel_launcher.py:4: SettingWithCopyWarning:\n",
      "\n",
      "\n",
      "A value is trying to be set on a copy of a slice from a DataFrame.\n",
      "Try using .loc[row_indexer,col_indexer] = value instead\n",
      "\n",
      "See the caveats in the documentation: http://pandas.pydata.org/pandas-docs/stable/indexing.html#indexing-view-versus-copy\n",
      "\n",
      "/usr/local/lib/python3.6/dist-packages/ipykernel_launcher.py:6: SettingWithCopyWarning:\n",
      "\n",
      "\n",
      "A value is trying to be set on a copy of a slice from a DataFrame.\n",
      "Try using .loc[row_indexer,col_indexer] = value instead\n",
      "\n",
      "See the caveats in the documentation: http://pandas.pydata.org/pandas-docs/stable/indexing.html#indexing-view-versus-copy\n",
      "\n",
      "/usr/local/lib/python3.6/dist-packages/ipykernel_launcher.py:7: SettingWithCopyWarning:\n",
      "\n",
      "\n",
      "A value is trying to be set on a copy of a slice from a DataFrame.\n",
      "Try using .loc[row_indexer,col_indexer] = value instead\n",
      "\n",
      "See the caveats in the documentation: http://pandas.pydata.org/pandas-docs/stable/indexing.html#indexing-view-versus-copy\n",
      "\n",
      "/usr/local/lib/python3.6/dist-packages/ipykernel_launcher.py:8: SettingWithCopyWarning:\n",
      "\n",
      "\n",
      "A value is trying to be set on a copy of a slice from a DataFrame.\n",
      "Try using .loc[row_indexer,col_indexer] = value instead\n",
      "\n",
      "See the caveats in the documentation: http://pandas.pydata.org/pandas-docs/stable/indexing.html#indexing-view-versus-copy\n",
      "\n"
     ]
    }
   ],
   "source": [
    "train = add_date_features(train)"
   ]
  },
  {
   "cell_type": "code",
   "execution_count": 28,
   "metadata": {},
   "outputs": [
    {
     "data": {
      "application/vnd.plotly.v1+json": {
       "config": {
        "linkText": "Export to plot.ly",
        "plotlyServerURL": "https://plot.ly",
        "showLink": false
       },
       "data": [
        {
         "mode": "lines",
         "type": "scatter",
         "uid": "10cc592a-4d7f-46ea-ba2c-f76a6ce88d11",
         "x": [
          "2017-07-01",
          "2017-07-02",
          "2017-07-03",
          "2017-07-04",
          "2017-07-05",
          "2017-07-06",
          "2017-07-07",
          "2017-07-08",
          "2017-07-09",
          "2017-07-10",
          "2017-07-11",
          "2017-07-12",
          "2017-07-13",
          "2017-07-14",
          "2017-07-15",
          "2017-07-16",
          "2017-07-17",
          "2017-07-18",
          "2017-07-19",
          "2017-07-20",
          "2017-07-21",
          "2017-07-22",
          "2017-07-23",
          "2017-07-24",
          "2017-07-25",
          "2017-07-26",
          "2017-07-27",
          "2017-07-28",
          "2017-07-29",
          "2017-07-30",
          "2017-07-31",
          "2017-08-01"
         ],
         "y": [
          1660,
          1537,
          1586,
          1578,
          2294,
          2127,
          1977,
          1495,
          1535,
          2239,
          2077,
          2043,
          2187,
          1883,
          1374,
          1421,
          2127,
          2237,
          2009,
          2116,
          1948,
          1372,
          1597,
          1993,
          2068,
          2173,
          2050,
          1920,
          1286,
          1438,
          2111,
          2023
         ]
        }
       ],
       "layout": {
        "height": 400,
        "title": {
         "text": "Visits by Date"
        }
       }
      },
      "text/html": [
       "<div>\n",
       "        \n",
       "        \n",
       "            <div id=\"ae599b5b-28b3-4e2a-964c-443690786965\" class=\"plotly-graph-div\" style=\"height:400px; width:100%;\"></div>\n",
       "            <script type=\"text/javascript\">\n",
       "                require([\"plotly\"], function(Plotly) {\n",
       "                    window.PLOTLYENV=window.PLOTLYENV || {};\n",
       "                    window.PLOTLYENV.BASE_URL='https://plot.ly';\n",
       "                    \n",
       "                if (document.getElementById(\"ae599b5b-28b3-4e2a-964c-443690786965\")) {\n",
       "                    Plotly.newPlot(\n",
       "                        'ae599b5b-28b3-4e2a-964c-443690786965',\n",
       "                        [{\"mode\": \"lines\", \"type\": \"scatter\", \"uid\": \"10cc592a-4d7f-46ea-ba2c-f76a6ce88d11\", \"x\": [\"2017-07-01\", \"2017-07-02\", \"2017-07-03\", \"2017-07-04\", \"2017-07-05\", \"2017-07-06\", \"2017-07-07\", \"2017-07-08\", \"2017-07-09\", \"2017-07-10\", \"2017-07-11\", \"2017-07-12\", \"2017-07-13\", \"2017-07-14\", \"2017-07-15\", \"2017-07-16\", \"2017-07-17\", \"2017-07-18\", \"2017-07-19\", \"2017-07-20\", \"2017-07-21\", \"2017-07-22\", \"2017-07-23\", \"2017-07-24\", \"2017-07-25\", \"2017-07-26\", \"2017-07-27\", \"2017-07-28\", \"2017-07-29\", \"2017-07-30\", \"2017-07-31\", \"2017-08-01\"], \"y\": [1660, 1537, 1586, 1578, 2294, 2127, 1977, 1495, 1535, 2239, 2077, 2043, 2187, 1883, 1374, 1421, 2127, 2237, 2009, 2116, 1948, 1372, 1597, 1993, 2068, 2173, 2050, 1920, 1286, 1438, 2111, 2023]}],\n",
       "                        {\"height\": 400, \"title\": {\"text\": \"Visits by Date\"}},\n",
       "                        {\"showLink\": false, \"linkText\": \"Export to plot.ly\", \"plotlyServerURL\": \"https://plot.ly\", \"responsive\": true}\n",
       "                    ).then(function(){\n",
       "                            \n",
       "var gd = document.getElementById('ae599b5b-28b3-4e2a-964c-443690786965');\n",
       "var x = new MutationObserver(function (mutations, observer) {{\n",
       "        var display = window.getComputedStyle(gd).display;\n",
       "        if (!display || display === 'none') {{\n",
       "            console.log([gd, 'removed!']);\n",
       "            Plotly.purge(gd);\n",
       "            observer.disconnect();\n",
       "        }}\n",
       "}});\n",
       "\n",
       "// Listen for the removal of the full notebook cells\n",
       "var notebookContainer = gd.closest('#notebook-container');\n",
       "if (notebookContainer) {{\n",
       "    x.observe(notebookContainer, {childList: true});\n",
       "}}\n",
       "\n",
       "// Listen for the clearing of the current output cell\n",
       "var outputEl = gd.closest('.output');\n",
       "if (outputEl) {{\n",
       "    x.observe(outputEl, {childList: true});\n",
       "}}\n",
       "\n",
       "                        })\n",
       "                };\n",
       "                });\n",
       "            </script>\n",
       "        </div>"
      ]
     },
     "metadata": {},
     "output_type": "display_data"
    },
    {
     "data": {
      "application/vnd.plotly.v1+json": {
       "config": {
        "linkText": "Export to plot.ly",
        "plotlyServerURL": "https://plot.ly",
        "showLink": false
       },
       "data": [
        {
         "mode": "lines",
         "type": "scatter",
         "uid": "89878162-ddb3-4a71-a0b8-03ea4fbdc578",
         "x": [
          "2017-07-01",
          "2017-07-02",
          "2017-07-03",
          "2017-07-04",
          "2017-07-05",
          "2017-07-06",
          "2017-07-07",
          "2017-07-08",
          "2017-07-09",
          "2017-07-10",
          "2017-07-11",
          "2017-07-12",
          "2017-07-13",
          "2017-07-14",
          "2017-07-15",
          "2017-07-16",
          "2017-07-17",
          "2017-07-18",
          "2017-07-19",
          "2017-07-20",
          "2017-07-21",
          "2017-07-22",
          "2017-07-23",
          "2017-07-24",
          "2017-07-25",
          "2017-07-26",
          "2017-07-27",
          "2017-07-28",
          "2017-07-29",
          "2017-07-30",
          "2017-07-31",
          "2017-08-01"
         ],
         "y": [
          28180000,
          93553333.33333333,
          117490000,
          52500000,
          250364333.33333334,
          105597500,
          89525185.18518518,
          37800000,
          33945882.35294118,
          111483243.24324325,
          131689411.76470588,
          54578055.55555555,
          109017500,
          95991315.78947368,
          47140000,
          38277826.08695652,
          89840789.4736842,
          144940952.3809524,
          125428604.65116279,
          76109354.83870968,
          56179411.76470588,
          151449285.7142857,
          31361818.181818184,
          126846060.60606061,
          164916666.66666666,
          111060322.58064516,
          86257906.97674419,
          95003142.85714285,
          58522352.941176474,
          109477500,
          215950833.33333334,
          134867297.2972973
         ]
        }
       ],
       "layout": {
        "height": 400,
        "title": {
         "text": "Monthly Revenue by Date"
        }
       }
      },
      "text/html": [
       "<div>\n",
       "        \n",
       "        \n",
       "            <div id=\"b43e78f7-1725-4c34-b0bf-ed1b8cf65ecd\" class=\"plotly-graph-div\" style=\"height:400px; width:100%;\"></div>\n",
       "            <script type=\"text/javascript\">\n",
       "                require([\"plotly\"], function(Plotly) {\n",
       "                    window.PLOTLYENV=window.PLOTLYENV || {};\n",
       "                    window.PLOTLYENV.BASE_URL='https://plot.ly';\n",
       "                    \n",
       "                if (document.getElementById(\"b43e78f7-1725-4c34-b0bf-ed1b8cf65ecd\")) {\n",
       "                    Plotly.newPlot(\n",
       "                        'b43e78f7-1725-4c34-b0bf-ed1b8cf65ecd',\n",
       "                        [{\"mode\": \"lines\", \"type\": \"scatter\", \"uid\": \"89878162-ddb3-4a71-a0b8-03ea4fbdc578\", \"x\": [\"2017-07-01\", \"2017-07-02\", \"2017-07-03\", \"2017-07-04\", \"2017-07-05\", \"2017-07-06\", \"2017-07-07\", \"2017-07-08\", \"2017-07-09\", \"2017-07-10\", \"2017-07-11\", \"2017-07-12\", \"2017-07-13\", \"2017-07-14\", \"2017-07-15\", \"2017-07-16\", \"2017-07-17\", \"2017-07-18\", \"2017-07-19\", \"2017-07-20\", \"2017-07-21\", \"2017-07-22\", \"2017-07-23\", \"2017-07-24\", \"2017-07-25\", \"2017-07-26\", \"2017-07-27\", \"2017-07-28\", \"2017-07-29\", \"2017-07-30\", \"2017-07-31\", \"2017-08-01\"], \"y\": [28180000.0, 93553333.33333333, 117490000.0, 52500000.0, 250364333.33333334, 105597500.0, 89525185.18518518, 37800000.0, 33945882.35294118, 111483243.24324325, 131689411.76470588, 54578055.55555555, 109017500.0, 95991315.78947368, 47140000.0, 38277826.08695652, 89840789.4736842, 144940952.3809524, 125428604.65116279, 76109354.83870968, 56179411.76470588, 151449285.7142857, 31361818.181818184, 126846060.60606061, 164916666.66666666, 111060322.58064516, 86257906.97674419, 95003142.85714285, 58522352.941176474, 109477500.0, 215950833.33333334, 134867297.2972973]}],\n",
       "                        {\"height\": 400, \"title\": {\"text\": \"Monthly Revenue by Date\"}},\n",
       "                        {\"showLink\": false, \"linkText\": \"Export to plot.ly\", \"plotlyServerURL\": \"https://plot.ly\", \"responsive\": true}\n",
       "                    ).then(function(){\n",
       "                            \n",
       "var gd = document.getElementById('b43e78f7-1725-4c34-b0bf-ed1b8cf65ecd');\n",
       "var x = new MutationObserver(function (mutations, observer) {{\n",
       "        var display = window.getComputedStyle(gd).display;\n",
       "        if (!display || display === 'none') {{\n",
       "            console.log([gd, 'removed!']);\n",
       "            Plotly.purge(gd);\n",
       "            observer.disconnect();\n",
       "        }}\n",
       "}});\n",
       "\n",
       "// Listen for the removal of the full notebook cells\n",
       "var notebookContainer = gd.closest('#notebook-container');\n",
       "if (notebookContainer) {{\n",
       "    x.observe(notebookContainer, {childList: true});\n",
       "}}\n",
       "\n",
       "// Listen for the clearing of the current output cell\n",
       "var outputEl = gd.closest('.output');\n",
       "if (outputEl) {{\n",
       "    x.observe(outputEl, {childList: true});\n",
       "}}\n",
       "\n",
       "                        })\n",
       "                };\n",
       "                });\n",
       "            </script>\n",
       "        </div>"
      ]
     },
     "metadata": {},
     "output_type": "display_data"
    }
   ],
   "source": [
    "# Visualization for Visits by date\n",
    "tmp = train['date'].value_counts().to_frame().reset_index().sort_values('index')\n",
    "tmp = tmp.rename(columns = {\"index\" : \"dateX\", \"date\" : \"visits\"})\n",
    "\n",
    "tr = go.Scatter(mode=\"lines\", x = tmp[\"dateX\"].astype(str), y = tmp[\"visits\"])\n",
    "layout = go.Layout(title=\"Visits by Date\", height=400)\n",
    "fig = go.Figure(data = [tr], layout = layout)\n",
    "iplot(fig)\n",
    "# Visualization for Visits by monthly revenue\n",
    "tmp = train.groupby(\"date\").agg({\"totals_transactionRevenue\" : \"mean\"}).reset_index()\n",
    "tmp = tmp.rename(columns = {\"date\" : \"dateX\", \"totals_transactionRevenue\" : \"mean_revenue\"})\n",
    "tr = go.Scatter(mode=\"lines\", x = tmp[\"dateX\"].astype(str), y = tmp[\"mean_revenue\"])\n",
    "layout = go.Layout(title=\"Monthly Revenue by Date\", height=400)\n",
    "fig = go.Figure(data = [tr], layout = layout)\n",
    "iplot(fig)"
   ]
  },
  {
   "cell_type": "code",
   "execution_count": 29,
   "metadata": {},
   "outputs": [
    {
     "data": {
      "application/vnd.plotly.v1+json": {
       "config": {
        "linkText": "Export to plot.ly",
        "plotlyServerURL": "https://plot.ly",
        "showLink": false
       },
       "data": [
        {
         "marker": {
          "color": "#d6a5ff"
         },
         "type": "bar",
         "uid": "171deebf-3650-465c-91ae-99ff91aa2fba",
         "x": [
          7,
          8
         ],
         "xaxis": "x",
         "y": [
          57458,
          2023
         ],
         "yaxis": "y"
        },
        {
         "marker": {
          "color": "#fca6da"
         },
         "type": "bar",
         "uid": "cb281a5d-4b66-4677-ad96-b07fed1a3473",
         "x": [
          1,
          5,
          10,
          18,
          13,
          26,
          6,
          17,
          20,
          31,
          11,
          25,
          27,
          12,
          19,
          24,
          7,
          21,
          28,
          14,
          23,
          3,
          4,
          2,
          9,
          8,
          30,
          16,
          15,
          22,
          29
         ],
         "xaxis": "x2",
         "y": [
          3683,
          2294,
          2239,
          2237,
          2187,
          2173,
          2127,
          2127,
          2116,
          2111,
          2077,
          2068,
          2050,
          2043,
          2009,
          1993,
          1977,
          1948,
          1920,
          1883,
          1597,
          1586,
          1578,
          1537,
          1535,
          1495,
          1438,
          1421,
          1374,
          1372,
          1286
         ],
         "yaxis": "y2"
        },
        {
         "marker": {
          "color": "#f4d39c"
         },
         "type": "bar",
         "uid": "ef7c3905-d279-4238-b6f7-a01a62262fa9",
         "x": [
          0,
          1,
          2,
          3,
          4,
          6,
          5
         ],
         "xaxis": "x3",
         "y": [
          10056,
          9983,
          8519,
          8480,
          7728,
          7528,
          7187
         ],
         "yaxis": "y3"
        }
       ],
       "layout": {
        "annotations": [
         {
          "font": {
           "size": 16
          },
          "showarrow": false,
          "text": "Visits by Month",
          "x": 0.14444444444444446,
          "xanchor": "center",
          "xref": "paper",
          "y": 1,
          "yanchor": "bottom",
          "yref": "paper"
         },
         {
          "font": {
           "size": 16
          },
          "showarrow": false,
          "text": "Visits by Month Day",
          "x": 0.5,
          "xanchor": "center",
          "xref": "paper",
          "y": 1,
          "yanchor": "bottom",
          "yref": "paper"
         },
         {
          "font": {
           "size": 16
          },
          "showarrow": false,
          "text": "Visits by Week Day",
          "x": 0.8555555555555556,
          "xanchor": "center",
          "xref": "paper",
          "y": 1,
          "yanchor": "bottom",
          "yref": "paper"
         }
        ],
        "height": 400,
        "showlegend": false,
        "xaxis": {
         "anchor": "y",
         "domain": [
          0,
          0.2888888888888889
         ]
        },
        "xaxis2": {
         "anchor": "y2",
         "domain": [
          0.35555555555555557,
          0.6444444444444445
         ]
        },
        "xaxis3": {
         "anchor": "y3",
         "domain": [
          0.7111111111111111,
          1
         ]
        },
        "yaxis": {
         "anchor": "x",
         "domain": [
          0,
          1
         ]
        },
        "yaxis2": {
         "anchor": "x2",
         "domain": [
          0,
          1
         ]
        },
        "yaxis3": {
         "anchor": "x3",
         "domain": [
          0,
          1
         ]
        }
       }
      },
      "text/html": [
       "<div>\n",
       "        \n",
       "        \n",
       "            <div id=\"1f4c1b29-b052-4ebd-99d2-faa6dbd49f91\" class=\"plotly-graph-div\" style=\"height:400px; width:100%;\"></div>\n",
       "            <script type=\"text/javascript\">\n",
       "                require([\"plotly\"], function(Plotly) {\n",
       "                    window.PLOTLYENV=window.PLOTLYENV || {};\n",
       "                    window.PLOTLYENV.BASE_URL='https://plot.ly';\n",
       "                    \n",
       "                if (document.getElementById(\"1f4c1b29-b052-4ebd-99d2-faa6dbd49f91\")) {\n",
       "                    Plotly.newPlot(\n",
       "                        '1f4c1b29-b052-4ebd-99d2-faa6dbd49f91',\n",
       "                        [{\"marker\": {\"color\": \"#d6a5ff\"}, \"type\": \"bar\", \"uid\": \"171deebf-3650-465c-91ae-99ff91aa2fba\", \"x\": [7, 8], \"xaxis\": \"x\", \"y\": [57458, 2023], \"yaxis\": \"y\"}, {\"marker\": {\"color\": \"#fca6da\"}, \"type\": \"bar\", \"uid\": \"cb281a5d-4b66-4677-ad96-b07fed1a3473\", \"x\": [1, 5, 10, 18, 13, 26, 6, 17, 20, 31, 11, 25, 27, 12, 19, 24, 7, 21, 28, 14, 23, 3, 4, 2, 9, 8, 30, 16, 15, 22, 29], \"xaxis\": \"x2\", \"y\": [3683, 2294, 2239, 2237, 2187, 2173, 2127, 2127, 2116, 2111, 2077, 2068, 2050, 2043, 2009, 1993, 1977, 1948, 1920, 1883, 1597, 1586, 1578, 1537, 1535, 1495, 1438, 1421, 1374, 1372, 1286], \"yaxis\": \"y2\"}, {\"marker\": {\"color\": \"#f4d39c\"}, \"type\": \"bar\", \"uid\": \"ef7c3905-d279-4238-b6f7-a01a62262fa9\", \"x\": [0, 1, 2, 3, 4, 6, 5], \"xaxis\": \"x3\", \"y\": [10056, 9983, 8519, 8480, 7728, 7528, 7187], \"yaxis\": \"y3\"}],\n",
       "                        {\"annotations\": [{\"font\": {\"size\": 16}, \"showarrow\": false, \"text\": \"Visits by Month\", \"x\": 0.14444444444444446, \"xanchor\": \"center\", \"xref\": \"paper\", \"y\": 1.0, \"yanchor\": \"bottom\", \"yref\": \"paper\"}, {\"font\": {\"size\": 16}, \"showarrow\": false, \"text\": \"Visits by Month Day\", \"x\": 0.5, \"xanchor\": \"center\", \"xref\": \"paper\", \"y\": 1.0, \"yanchor\": \"bottom\", \"yref\": \"paper\"}, {\"font\": {\"size\": 16}, \"showarrow\": false, \"text\": \"Visits by Week Day\", \"x\": 0.8555555555555556, \"xanchor\": \"center\", \"xref\": \"paper\", \"y\": 1.0, \"yanchor\": \"bottom\", \"yref\": \"paper\"}], \"height\": 400, \"showlegend\": false, \"xaxis\": {\"anchor\": \"y\", \"domain\": [0.0, 0.2888888888888889]}, \"xaxis2\": {\"anchor\": \"y2\", \"domain\": [0.35555555555555557, 0.6444444444444445]}, \"xaxis3\": {\"anchor\": \"y3\", \"domain\": [0.7111111111111111, 1.0]}, \"yaxis\": {\"anchor\": \"x\", \"domain\": [0.0, 1.0]}, \"yaxis2\": {\"anchor\": \"x2\", \"domain\": [0.0, 1.0]}, \"yaxis3\": {\"anchor\": \"x3\", \"domain\": [0.0, 1.0]}},\n",
       "                        {\"showLink\": false, \"linkText\": \"Export to plot.ly\", \"plotlyServerURL\": \"https://plot.ly\", \"responsive\": true}\n",
       "                    ).then(function(){\n",
       "                            \n",
       "var gd = document.getElementById('1f4c1b29-b052-4ebd-99d2-faa6dbd49f91');\n",
       "var x = new MutationObserver(function (mutations, observer) {{\n",
       "        var display = window.getComputedStyle(gd).display;\n",
       "        if (!display || display === 'none') {{\n",
       "            console.log([gd, 'removed!']);\n",
       "            Plotly.purge(gd);\n",
       "            observer.disconnect();\n",
       "        }}\n",
       "}});\n",
       "\n",
       "// Listen for the removal of the full notebook cells\n",
       "var notebookContainer = gd.closest('#notebook-container');\n",
       "if (notebookContainer) {{\n",
       "    x.observe(notebookContainer, {childList: true});\n",
       "}}\n",
       "\n",
       "// Listen for the clearing of the current output cell\n",
       "var outputEl = gd.closest('.output');\n",
       "if (outputEl) {{\n",
       "    x.observe(outputEl, {childList: true});\n",
       "}}\n",
       "\n",
       "                        })\n",
       "                };\n",
       "                });\n",
       "            </script>\n",
       "        </div>"
      ]
     },
     "metadata": {},
     "output_type": "display_data"
    }
   ],
   "source": [
    "\n",
    "\n",
    "fig = tools.make_subplots(rows=1, cols=3, subplot_titles=[\"Visits by Month\", \"Visits by Month Day\", \"Visits by Week Day\"], print_grid=False)\n",
    "trs = []\n",
    "for i,col in enumerate([\"month\", \"day\", \"weekday\"]):\n",
    "    t = train[col].value_counts()\n",
    "    tr = go.Bar(x = t.index, marker=dict(color=colors[i]), y = t.values)\n",
    "    trs.append(tr)\n",
    "\n",
    "fig.append_trace(trs[0], 1, 1)\n",
    "fig.append_trace(trs[1], 1, 2)\n",
    "fig.append_trace(trs[2], 1, 3)\n",
    "fig['layout'].update(height=400, showlegend=False)\n",
    "iplot(fig)\n",
    "\n"
   ]
  },
  {
   "cell_type": "code",
   "execution_count": 30,
   "metadata": {},
   "outputs": [
    {
     "data": {
      "application/vnd.plotly.v1+json": {
       "config": {
        "linkText": "Export to plot.ly",
        "plotlyServerURL": "https://plot.ly",
        "showLink": false
       },
       "data": [
        {
         "marker": {
          "color": "yellow",
          "opacity": 0.5
         },
         "type": "bar",
         "uid": "6147fb4f-eb43-4f73-8fde-aa76e559261f",
         "x": [
          7,
          8
         ],
         "xaxis": "x",
         "y": [
          109573634.17569193,
          134867297.2972973
         ],
         "yaxis": "y"
        },
        {
         "marker": {
          "color": "blue",
          "opacity": 0.5
         },
         "type": "bar",
         "uid": "76318605-5e19-4c19-95d6-98ce5c789884",
         "x": [
          1,
          2,
          3,
          4,
          5,
          6,
          7,
          8,
          9,
          10,
          11,
          12,
          13,
          14,
          15,
          16,
          17,
          18,
          19,
          20,
          21,
          22,
          23,
          24,
          25,
          26,
          27,
          28,
          29,
          30,
          31
         ],
         "xaxis": "x2",
         "y": [
          126865750,
          93553333.33333333,
          117490000,
          52500000,
          250364333.33333334,
          105597500,
          89525185.18518518,
          37800000,
          33945882.35294118,
          111483243.24324325,
          131689411.76470588,
          54578055.55555555,
          109017500,
          95991315.78947368,
          47140000,
          38277826.08695652,
          89840789.4736842,
          144940952.3809524,
          125428604.65116279,
          76109354.83870968,
          56179411.76470588,
          151449285.7142857,
          31361818.181818184,
          126846060.60606061,
          164916666.66666666,
          111060322.58064516,
          86257906.97674419,
          95003142.85714285,
          58522352.941176474,
          109477500,
          215950833.33333334
         ],
         "yaxis": "y2"
        },
        {
         "marker": {
          "color": "violet",
          "opacity": 0.5
         },
         "type": "bar",
         "uid": "b740922d-1e83-4d61-88c9-2d468ac695cd",
         "x": [
          0,
          1,
          2,
          3,
          4,
          5,
          6
         ],
         "xaxis": "x3",
         "y": [
          140289696.96969697,
          139795172.41379312,
          130800285.71428572,
          95144866.66666667,
          84328805.97014925,
          73518070.1754386,
          59134025.97402597
         ],
         "yaxis": "y3"
        }
       ],
       "layout": {
        "annotations": [
         {
          "font": {
           "size": 16
          },
          "showarrow": false,
          "text": "MeanRevenue by Month",
          "x": 0.14444444444444446,
          "xanchor": "center",
          "xref": "paper",
          "y": 1,
          "yanchor": "bottom",
          "yref": "paper"
         },
         {
          "font": {
           "size": 16
          },
          "showarrow": false,
          "text": "MeanRevenue by MonthDay",
          "x": 0.5,
          "xanchor": "center",
          "xref": "paper",
          "y": 1,
          "yanchor": "bottom",
          "yref": "paper"
         },
         {
          "font": {
           "size": 16
          },
          "showarrow": false,
          "text": "MeanRevenue by WeekDay",
          "x": 0.8555555555555556,
          "xanchor": "center",
          "xref": "paper",
          "y": 1,
          "yanchor": "bottom",
          "yref": "paper"
         }
        ],
        "height": 400,
        "showlegend": false,
        "xaxis": {
         "anchor": "y",
         "domain": [
          0,
          0.2888888888888889
         ]
        },
        "xaxis2": {
         "anchor": "y2",
         "domain": [
          0.35555555555555557,
          0.6444444444444445
         ]
        },
        "xaxis3": {
         "anchor": "y3",
         "domain": [
          0.7111111111111111,
          1
         ]
        },
        "yaxis": {
         "anchor": "x",
         "domain": [
          0,
          1
         ]
        },
        "yaxis2": {
         "anchor": "x2",
         "domain": [
          0,
          1
         ]
        },
        "yaxis3": {
         "anchor": "x3",
         "domain": [
          0,
          1
         ]
        }
       }
      },
      "text/html": [
       "<div>\n",
       "        \n",
       "        \n",
       "            <div id=\"55b35029-31e1-4150-98e4-89018c6ff35a\" class=\"plotly-graph-div\" style=\"height:400px; width:100%;\"></div>\n",
       "            <script type=\"text/javascript\">\n",
       "                require([\"plotly\"], function(Plotly) {\n",
       "                    window.PLOTLYENV=window.PLOTLYENV || {};\n",
       "                    window.PLOTLYENV.BASE_URL='https://plot.ly';\n",
       "                    \n",
       "                if (document.getElementById(\"55b35029-31e1-4150-98e4-89018c6ff35a\")) {\n",
       "                    Plotly.newPlot(\n",
       "                        '55b35029-31e1-4150-98e4-89018c6ff35a',\n",
       "                        [{\"marker\": {\"color\": \"yellow\", \"opacity\": 0.5}, \"type\": \"bar\", \"uid\": \"6147fb4f-eb43-4f73-8fde-aa76e559261f\", \"x\": [7, 8], \"xaxis\": \"x\", \"y\": [109573634.17569193, 134867297.2972973], \"yaxis\": \"y\"}, {\"marker\": {\"color\": \"blue\", \"opacity\": 0.5}, \"type\": \"bar\", \"uid\": \"76318605-5e19-4c19-95d6-98ce5c789884\", \"x\": [1, 2, 3, 4, 5, 6, 7, 8, 9, 10, 11, 12, 13, 14, 15, 16, 17, 18, 19, 20, 21, 22, 23, 24, 25, 26, 27, 28, 29, 30, 31], \"xaxis\": \"x2\", \"y\": [126865750.0, 93553333.33333333, 117490000.0, 52500000.0, 250364333.33333334, 105597500.0, 89525185.18518518, 37800000.0, 33945882.35294118, 111483243.24324325, 131689411.76470588, 54578055.55555555, 109017500.0, 95991315.78947368, 47140000.0, 38277826.08695652, 89840789.4736842, 144940952.3809524, 125428604.65116279, 76109354.83870968, 56179411.76470588, 151449285.7142857, 31361818.181818184, 126846060.60606061, 164916666.66666666, 111060322.58064516, 86257906.97674419, 95003142.85714285, 58522352.941176474, 109477500.0, 215950833.33333334], \"yaxis\": \"y2\"}, {\"marker\": {\"color\": \"violet\", \"opacity\": 0.5}, \"type\": \"bar\", \"uid\": \"b740922d-1e83-4d61-88c9-2d468ac695cd\", \"x\": [0, 1, 2, 3, 4, 5, 6], \"xaxis\": \"x3\", \"y\": [140289696.96969697, 139795172.41379312, 130800285.71428572, 95144866.66666667, 84328805.97014925, 73518070.1754386, 59134025.97402597], \"yaxis\": \"y3\"}],\n",
       "                        {\"annotations\": [{\"font\": {\"size\": 16}, \"showarrow\": false, \"text\": \"MeanRevenue by Month\", \"x\": 0.14444444444444446, \"xanchor\": \"center\", \"xref\": \"paper\", \"y\": 1.0, \"yanchor\": \"bottom\", \"yref\": \"paper\"}, {\"font\": {\"size\": 16}, \"showarrow\": false, \"text\": \"MeanRevenue by MonthDay\", \"x\": 0.5, \"xanchor\": \"center\", \"xref\": \"paper\", \"y\": 1.0, \"yanchor\": \"bottom\", \"yref\": \"paper\"}, {\"font\": {\"size\": 16}, \"showarrow\": false, \"text\": \"MeanRevenue by WeekDay\", \"x\": 0.8555555555555556, \"xanchor\": \"center\", \"xref\": \"paper\", \"y\": 1.0, \"yanchor\": \"bottom\", \"yref\": \"paper\"}], \"height\": 400, \"showlegend\": false, \"xaxis\": {\"anchor\": \"y\", \"domain\": [0.0, 0.2888888888888889]}, \"xaxis2\": {\"anchor\": \"y2\", \"domain\": [0.35555555555555557, 0.6444444444444445]}, \"xaxis3\": {\"anchor\": \"y3\", \"domain\": [0.7111111111111111, 1.0]}, \"yaxis\": {\"anchor\": \"x\", \"domain\": [0.0, 1.0]}, \"yaxis2\": {\"anchor\": \"x2\", \"domain\": [0.0, 1.0]}, \"yaxis3\": {\"anchor\": \"x3\", \"domain\": [0.0, 1.0]}},\n",
       "                        {\"showLink\": false, \"linkText\": \"Export to plot.ly\", \"plotlyServerURL\": \"https://plot.ly\", \"responsive\": true}\n",
       "                    ).then(function(){\n",
       "                            \n",
       "var gd = document.getElementById('55b35029-31e1-4150-98e4-89018c6ff35a');\n",
       "var x = new MutationObserver(function (mutations, observer) {{\n",
       "        var display = window.getComputedStyle(gd).display;\n",
       "        if (!display || display === 'none') {{\n",
       "            console.log([gd, 'removed!']);\n",
       "            Plotly.purge(gd);\n",
       "            observer.disconnect();\n",
       "        }}\n",
       "}});\n",
       "\n",
       "// Listen for the removal of the full notebook cells\n",
       "var notebookContainer = gd.closest('#notebook-container');\n",
       "if (notebookContainer) {{\n",
       "    x.observe(notebookContainer, {childList: true});\n",
       "}}\n",
       "\n",
       "// Listen for the clearing of the current output cell\n",
       "var outputEl = gd.closest('.output');\n",
       "if (outputEl) {{\n",
       "    x.observe(outputEl, {childList: true});\n",
       "}}\n",
       "\n",
       "                        })\n",
       "                };\n",
       "                });\n",
       "            </script>\n",
       "        </div>"
      ]
     },
     "metadata": {},
     "output_type": "display_data"
    }
   ],
   "source": [
    "\n",
    "\n",
    "tmp1 = train.groupby('month').agg({\"totals_transactionRevenue\" : \"mean\"}).reset_index()\n",
    "tmp2 = train.groupby('day').agg({\"totals_transactionRevenue\" : \"mean\"}).reset_index()\n",
    "tmp3 = train.groupby('weekday').agg({\"totals_transactionRevenue\" : \"mean\"}).reset_index()\n",
    "\n",
    "fig = tools.make_subplots(rows=1, cols=3, subplot_titles=[\"MeanRevenue by Month\", \"MeanRevenue by MonthDay\", \"MeanRevenue by WeekDay\"], print_grid=False)\n",
    "tr1 = go.Bar(x = tmp1.month, marker=dict(color=\"yellow\", opacity=0.5), y = tmp1.totals_transactionRevenue)\n",
    "tr2 = go.Bar(x = tmp2.day, marker=dict(color=\"blue\", opacity=0.5), y = tmp2.totals_transactionRevenue)\n",
    "tr3 = go.Bar(x = tmp3.weekday, marker=dict(color=\"violet\", opacity=0.5), y = tmp3.totals_transactionRevenue)\n",
    "\n",
    "fig.append_trace(tr1, 1, 1)\n",
    "fig.append_trace(tr2, 1, 2)\n",
    "fig.append_trace(tr3, 1, 3)\n",
    "fig['layout'].update(height=400, showlegend=False)\n",
    "iplot(fig)\n",
    "\n"
   ]
  },
  {
   "cell_type": "code",
   "execution_count": 31,
   "metadata": {},
   "outputs": [
    {
     "name": "stderr",
     "output_type": "stream",
     "text": [
      "/usr/local/lib/python3.6/dist-packages/ipykernel_launcher.py:6: SettingWithCopyWarning:\n",
      "\n",
      "\n",
      "A value is trying to be set on a copy of a slice from a DataFrame.\n",
      "Try using .loc[row_indexer,col_indexer] = value instead\n",
      "\n",
      "See the caveats in the documentation: http://pandas.pydata.org/pandas-docs/stable/indexing.html#indexing-view-versus-copy\n",
      "\n"
     ]
    },
    {
     "data": {
      "text/html": [
       "<div>\n",
       "<style scoped>\n",
       "    .dataframe tbody tr th:only-of-type {\n",
       "        vertical-align: middle;\n",
       "    }\n",
       "\n",
       "    .dataframe tbody tr th {\n",
       "        vertical-align: top;\n",
       "    }\n",
       "\n",
       "    .dataframe thead th {\n",
       "        text-align: right;\n",
       "    }\n",
       "</style>\n",
       "<table border=\"1\" class=\"dataframe\">\n",
       "  <thead>\n",
       "    <tr style=\"text-align: right;\">\n",
       "      <th></th>\n",
       "      <th>fullVisitorId</th>\n",
       "      <th>totals_bounces</th>\n",
       "      <th>totals_hits</th>\n",
       "      <th>totals_newVisits</th>\n",
       "      <th>totals_pageviews</th>\n",
       "      <th>totals_transactionRevenue</th>\n",
       "    </tr>\n",
       "  </thead>\n",
       "  <tbody>\n",
       "    <tr>\n",
       "      <th>0</th>\n",
       "      <td>0000062267706107999</td>\n",
       "      <td>1.0</td>\n",
       "      <td>1.0</td>\n",
       "      <td>1.0</td>\n",
       "      <td>1.0</td>\n",
       "      <td>0.0</td>\n",
       "    </tr>\n",
       "    <tr>\n",
       "      <th>1</th>\n",
       "      <td>0000085059828173212</td>\n",
       "      <td>1.0</td>\n",
       "      <td>1.0</td>\n",
       "      <td>1.0</td>\n",
       "      <td>1.0</td>\n",
       "      <td>0.0</td>\n",
       "    </tr>\n",
       "    <tr>\n",
       "      <th>2</th>\n",
       "      <td>0000436683523507380</td>\n",
       "      <td>0.0</td>\n",
       "      <td>8.0</td>\n",
       "      <td>0.0</td>\n",
       "      <td>8.0</td>\n",
       "      <td>0.0</td>\n",
       "    </tr>\n",
       "    <tr>\n",
       "      <th>3</th>\n",
       "      <td>0000450371054833295</td>\n",
       "      <td>1.0</td>\n",
       "      <td>1.0</td>\n",
       "      <td>1.0</td>\n",
       "      <td>1.0</td>\n",
       "      <td>0.0</td>\n",
       "    </tr>\n",
       "    <tr>\n",
       "      <th>4</th>\n",
       "      <td>0000884932399915132</td>\n",
       "      <td>0.0</td>\n",
       "      <td>9.0</td>\n",
       "      <td>1.0</td>\n",
       "      <td>8.0</td>\n",
       "      <td>0.0</td>\n",
       "    </tr>\n",
       "  </tbody>\n",
       "</table>\n",
       "</div>"
      ],
      "text/plain": [
       "         fullVisitorId  totals_bounces  totals_hits  totals_newVisits  \\\n",
       "0  0000062267706107999             1.0          1.0               1.0   \n",
       "1  0000085059828173212             1.0          1.0               1.0   \n",
       "2  0000436683523507380             0.0          8.0               0.0   \n",
       "3  0000450371054833295             1.0          1.0               1.0   \n",
       "4  0000884932399915132             0.0          9.0               1.0   \n",
       "\n",
       "   totals_pageviews  totals_transactionRevenue  \n",
       "0               1.0                        0.0  \n",
       "1               1.0                        0.0  \n",
       "2               8.0                        0.0  \n",
       "3               1.0                        0.0  \n",
       "4               8.0                        0.0  "
      ]
     },
     "execution_count": 31,
     "metadata": {},
     "output_type": "execute_result"
    }
   ],
   "source": [
    "import warnings\n",
    "warnings.simplefilter(action='ignore', category=FutureWarning)\n",
    "\n",
    "agg_dict = {}\n",
    "for col in [\"totals_bounces\", \"totals_hits\", \"totals_newVisits\", \"totals_pageviews\", \"totals_transactionRevenue\"]:\n",
    "    train[col] = train[col].astype('float')\n",
    "    agg_dict[col] = \"sum\"\n",
    "tmp = train.groupby(\"fullVisitorId\").agg(agg_dict).reset_index()\n",
    "tmp.head()"
   ]
  },
  {
   "cell_type": "code",
   "execution_count": 32,
   "metadata": {},
   "outputs": [
    {
     "name": "stdout",
     "output_type": "stream",
     "text": [
      "There are 823 visitors in the train dataset having non zero total transaction revenue\n"
     ]
    },
    {
     "data": {
      "text/plain": [
       "57       2390000.0\n",
       "72      33170000.0\n",
       "134    126890000.0\n",
       "252     43160000.0\n",
       "516     44200000.0\n",
       "Name: totals_transactionRevenue, dtype: float64"
      ]
     },
     "execution_count": 32,
     "metadata": {},
     "output_type": "execute_result"
    }
   ],
   "source": [
    "non_zero = tmp[tmp[\"totals_transactionRevenue\"] > 0][\"totals_transactionRevenue\"]\n",
    "print (\"There are \" + str(len(non_zero)) + \" visitors in the train dataset having non zero total transaction revenue\")\n",
    "non_zero.head()"
   ]
  },
  {
   "cell_type": "code",
   "execution_count": 33,
   "metadata": {},
   "outputs": [
    {
     "data": {
      "image/png": "[encoded data removed]",
      "text/plain": [
       "<Figure size 720x432 with 1 Axes>"
      ]
     },
     "metadata": {
      "needs_background": "light"
     },
     "output_type": "display_data"
    }
   ],
   "source": [
    "plt.figure(figsize=(10,6))\n",
    "sns.distplot(non_zero)\n",
    "plt.title(\"Distribution of Non-Zero Total Transactions\");\n",
    "plt.xlabel(\"Total Transactions\");"
   ]
  },
  {
   "cell_type": "code",
   "execution_count": 34,
   "metadata": {},
   "outputs": [
    {
     "data": {
      "image/png": "[encoded data removed]",
      "text/plain": [
       "<Figure size 864x432 with 1 Axes>"
      ]
     },
     "metadata": {
      "needs_background": "light"
     },
     "output_type": "display_data"
    }
   ],
   "source": [
    "plt.figure(figsize=(12,6))\n",
    "sns.distplot(np.log1p(non_zero))\n",
    "plt.title(\"Natural Log Distribution of Non Zero Total Transactions\");\n",
    "plt.xlabel(\"Natural Log - Total Transactions\");\n",
    "\n"
   ]
  },
  {
   "cell_type": "code",
   "execution_count": 35,
   "metadata": {},
   "outputs": [],
   "source": [
    "## find constant columns\n",
    "constant_columns = []\n",
    "for col in train.columns:\n",
    "    if len(train[col].value_counts()) == 1:\n",
    "        constant_columns.append(col)\n",
    "\n",
    "## non relevant columns\n",
    "non_relevant = [\"visitNumber\", \"date\", \"fullVisitorId\", \"sessionId\", \"visitId\", \"visitStartTime\"]"
   ]
  },
  {
   "cell_type": "code",
   "execution_count": 36,
   "metadata": {},
   "outputs": [
    {
     "data": {
      "text/plain": [
       "['totals_visits',\n",
       " 'totals_bounces',\n",
       " 'totals_newVisits',\n",
       " 'trafficSource_adwordsClickInfo_criteriaParameters',\n",
       " 'trafficSource_adwordsClickInfo_adNetworkType',\n",
       " 'trafficSource_adwordsClickInfo_isVideoAd',\n",
       " 'trafficSource_isTrueDirect',\n",
       " 'device_browserVersion',\n",
       " 'device_browserSize',\n",
       " 'device_operatingSystemVersion',\n",
       " 'device_mobileDeviceBranding',\n",
       " 'device_mobileDeviceModel',\n",
       " 'device_mobileInputSelector',\n",
       " 'device_mobileDeviceInfo',\n",
       " 'device_mobileDeviceMarketingName',\n",
       " 'device_flashVersion',\n",
       " 'device_language',\n",
       " 'device_screenColors',\n",
       " 'device_screenResolution',\n",
       " 'geoNetwork_cityId',\n",
       " 'geoNetwork_latitude',\n",
       " 'geoNetwork_longitude',\n",
       " 'geoNetwork_networkLocation',\n",
       " 'socialEngagementType']"
      ]
     },
     "execution_count": 36,
     "metadata": {},
     "output_type": "execute_result"
    }
   ],
   "source": [
    "constant_columns"
   ]
  },
  {
   "cell_type": "code",
   "execution_count": 37,
   "metadata": {},
   "outputs": [
    {
     "name": "stderr",
     "output_type": "stream",
     "text": [
      "/usr/local/lib/python3.6/dist-packages/ipykernel_launcher.py:2: SettingWithCopyWarning:\n",
      "\n",
      "\n",
      "A value is trying to be set on a copy of a slice from a DataFrame.\n",
      "Try using .loc[row_indexer,col_indexer] = value instead\n",
      "\n",
      "See the caveats in the documentation: http://pandas.pydata.org/pandas-docs/stable/indexing.html#indexing-view-versus-copy\n",
      "\n",
      "/usr/local/lib/python3.6/dist-packages/ipykernel_launcher.py:3: SettingWithCopyWarning:\n",
      "\n",
      "\n",
      "A value is trying to be set on a copy of a slice from a DataFrame.\n",
      "Try using .loc[row_indexer,col_indexer] = value instead\n",
      "\n",
      "See the caveats in the documentation: http://pandas.pydata.org/pandas-docs/stable/indexing.html#indexing-view-versus-copy\n",
      "\n",
      "/usr/local/lib/python3.6/dist-packages/ipykernel_launcher.py:4: SettingWithCopyWarning:\n",
      "\n",
      "\n",
      "A value is trying to be set on a copy of a slice from a DataFrame.\n",
      "Try using .loc[row_indexer,col_indexer] = value instead\n",
      "\n",
      "See the caveats in the documentation: http://pandas.pydata.org/pandas-docs/stable/indexing.html#indexing-view-versus-copy\n",
      "\n",
      "/usr/local/lib/python3.6/dist-packages/ipykernel_launcher.py:6: SettingWithCopyWarning:\n",
      "\n",
      "\n",
      "A value is trying to be set on a copy of a slice from a DataFrame.\n",
      "Try using .loc[row_indexer,col_indexer] = value instead\n",
      "\n",
      "See the caveats in the documentation: http://pandas.pydata.org/pandas-docs/stable/indexing.html#indexing-view-versus-copy\n",
      "\n",
      "/usr/local/lib/python3.6/dist-packages/ipykernel_launcher.py:7: SettingWithCopyWarning:\n",
      "\n",
      "\n",
      "A value is trying to be set on a copy of a slice from a DataFrame.\n",
      "Try using .loc[row_indexer,col_indexer] = value instead\n",
      "\n",
      "See the caveats in the documentation: http://pandas.pydata.org/pandas-docs/stable/indexing.html#indexing-view-versus-copy\n",
      "\n",
      "/usr/local/lib/python3.6/dist-packages/ipykernel_launcher.py:8: SettingWithCopyWarning:\n",
      "\n",
      "\n",
      "A value is trying to be set on a copy of a slice from a DataFrame.\n",
      "Try using .loc[row_indexer,col_indexer] = value instead\n",
      "\n",
      "See the caveats in the documentation: http://pandas.pydata.org/pandas-docs/stable/indexing.html#indexing-view-versus-copy\n",
      "\n"
     ]
    }
   ],
   "source": [
    "test = add_date_features(test)"
   ]
  },
  {
   "cell_type": "code",
   "execution_count": 38,
   "metadata": {},
   "outputs": [
    {
     "name": "stderr",
     "output_type": "stream",
     "text": [
      "/usr/local/lib/python3.6/dist-packages/ipykernel_launcher.py:13: SettingWithCopyWarning:\n",
      "\n",
      "\n",
      "A value is trying to be set on a copy of a slice from a DataFrame.\n",
      "Try using .loc[row_indexer,col_indexer] = value instead\n",
      "\n",
      "See the caveats in the documentation: http://pandas.pydata.org/pandas-docs/stable/indexing.html#indexing-view-versus-copy\n",
      "\n",
      "/usr/local/lib/python3.6/dist-packages/ipykernel_launcher.py:14: SettingWithCopyWarning:\n",
      "\n",
      "\n",
      "A value is trying to be set on a copy of a slice from a DataFrame.\n",
      "Try using .loc[row_indexer,col_indexer] = value instead\n",
      "\n",
      "See the caveats in the documentation: http://pandas.pydata.org/pandas-docs/stable/indexing.html#indexing-view-versus-copy\n",
      "\n"
     ]
    }
   ],
   "source": [
    "from sklearn.preprocessing import LabelEncoder\n",
    "\n",
    "categorical_columns = [c for c in train.columns if not c.startswith(\"total\")]\n",
    "categorical_columns = [c for c in categorical_columns if c not in constant_columns + non_relevant]\n",
    "for c in categorical_columns:\n",
    "\n",
    "    le = LabelEncoder()\n",
    "    train_vals = list(train[c].values.astype(str))\n",
    "    test_vals = list(test[c].values.astype(str))\n",
    "    \n",
    "    le.fit(train_vals + test_vals)\n",
    "    \n",
    "    train[c] = le.transform(train_vals)\n",
    "    test[c] = le.transform(test_vals)"
   ]
  },
  {
   "cell_type": "code",
   "execution_count": 39,
   "metadata": {},
   "outputs": [],
   "source": [
    "def normalize_numerical_columns(df, isTrain = True):\n",
    "    df[\"totals_hits\"] = df[\"totals_hits\"].astype(float)\n",
    "    df[\"totals_hits\"] = (df[\"totals_hits\"] - min(df[\"totals_hits\"])) / (max(df[\"totals_hits\"]) - min(df[\"totals_hits\"]))\n",
    "\n",
    "    df[\"totals_pageviews\"] = df[\"totals_pageviews\"].astype(float)\n",
    "    df[\"totals_pageviews\"] = (df[\"totals_pageviews\"] - min(df[\"totals_pageviews\"])) / (max(df[\"totals_pageviews\"]) - min(df[\"totals_pageviews\"]))\n",
    "    \n",
    "    if isTrain:\n",
    "        df[\"totals_transactionRevenue\"] = df[\"totals_transactionRevenue\"].fillna(0.0)\n",
    "    return df"
   ]
  },
  {
   "cell_type": "code",
   "execution_count": 40,
   "metadata": {},
   "outputs": [
    {
     "name": "stderr",
     "output_type": "stream",
     "text": [
      "/usr/local/lib/python3.6/dist-packages/ipykernel_launcher.py:2: SettingWithCopyWarning:\n",
      "\n",
      "\n",
      "A value is trying to be set on a copy of a slice from a DataFrame.\n",
      "Try using .loc[row_indexer,col_indexer] = value instead\n",
      "\n",
      "See the caveats in the documentation: http://pandas.pydata.org/pandas-docs/stable/indexing.html#indexing-view-versus-copy\n",
      "\n",
      "/usr/local/lib/python3.6/dist-packages/ipykernel_launcher.py:3: SettingWithCopyWarning:\n",
      "\n",
      "\n",
      "A value is trying to be set on a copy of a slice from a DataFrame.\n",
      "Try using .loc[row_indexer,col_indexer] = value instead\n",
      "\n",
      "See the caveats in the documentation: http://pandas.pydata.org/pandas-docs/stable/indexing.html#indexing-view-versus-copy\n",
      "\n",
      "/usr/local/lib/python3.6/dist-packages/ipykernel_launcher.py:5: SettingWithCopyWarning:\n",
      "\n",
      "\n",
      "A value is trying to be set on a copy of a slice from a DataFrame.\n",
      "Try using .loc[row_indexer,col_indexer] = value instead\n",
      "\n",
      "See the caveats in the documentation: http://pandas.pydata.org/pandas-docs/stable/indexing.html#indexing-view-versus-copy\n",
      "\n",
      "/usr/local/lib/python3.6/dist-packages/ipykernel_launcher.py:6: SettingWithCopyWarning:\n",
      "\n",
      "\n",
      "A value is trying to be set on a copy of a slice from a DataFrame.\n",
      "Try using .loc[row_indexer,col_indexer] = value instead\n",
      "\n",
      "See the caveats in the documentation: http://pandas.pydata.org/pandas-docs/stable/indexing.html#indexing-view-versus-copy\n",
      "\n",
      "/usr/local/lib/python3.6/dist-packages/ipykernel_launcher.py:9: SettingWithCopyWarning:\n",
      "\n",
      "\n",
      "A value is trying to be set on a copy of a slice from a DataFrame.\n",
      "Try using .loc[row_indexer,col_indexer] = value instead\n",
      "\n",
      "See the caveats in the documentation: http://pandas.pydata.org/pandas-docs/stable/indexing.html#indexing-view-versus-copy\n",
      "\n"
     ]
    }
   ],
   "source": [
    "train = normalize_numerical_columns(train)\n",
    "test = normalize_numerical_columns(test, isTrain = False)"
   ]
  },
  {
   "cell_type": "code",
   "execution_count": 41,
   "metadata": {},
   "outputs": [],
   "source": [
    "train.to_csv('ana_train.csv', index=False)\n",
    "test.to_csv('ana_test.csv', index=False)"
   ]
  },
  {
   "cell_type": "code",
   "execution_count": 85,
   "metadata": {},
   "outputs": [],
   "source": [
    "from sklearn.model_selection import train_test_split\n",
    "features = [c for c in train.columns if c not in constant_columns + non_relevant]\n",
    "features.remove(\"totals_transactionRevenue\")\n",
    "train[\"totals_transactionRevenue\"] = np.log1p(train[\"totals_transactionRevenue\"].astype(float))\n",
    "train_x, valid_x, train_y, valid_y = train_test_split(train[features], train[\"totals_transactionRevenue\"], test_size=0.25, random_state=20)"
   ]
  },
  {
   "cell_type": "code",
   "execution_count": 91,
   "metadata": {},
   "outputs": [
    {
     "name": "stdout",
     "output_type": "stream",
     "text": [
      "Training until validation scores don't improve for 150 rounds\n",
      "[20]\tvalid_0's rmse: 1.48379\n",
      "[40]\tvalid_0's rmse: 0.992361\n",
      "[60]\tvalid_0's rmse: 0.664829\n",
      "[80]\tvalid_0's rmse: 0.453132\n",
      "[100]\tvalid_0's rmse: 0.306242\n",
      "[120]\tvalid_0's rmse: 0.212091\n",
      "[140]\tvalid_0's rmse: 0.147863\n",
      "[160]\tvalid_0's rmse: 0.106589\n",
      "[180]\tvalid_0's rmse: 0.0807068\n",
      "[200]\tvalid_0's rmse: 0.0656629\n",
      "[220]\tvalid_0's rmse: 0.0571665\n",
      "[240]\tvalid_0's rmse: 0.0519519\n",
      "[260]\tvalid_0's rmse: 0.0490951\n",
      "[280]\tvalid_0's rmse: 0.04753\n",
      "[300]\tvalid_0's rmse: 0.0465794\n",
      "[320]\tvalid_0's rmse: 0.0461518\n",
      "[340]\tvalid_0's rmse: 0.0459067\n",
      "[360]\tvalid_0's rmse: 0.0457802\n",
      "[380]\tvalid_0's rmse: 0.0456968\n",
      "[400]\tvalid_0's rmse: 0.0456597\n",
      "Did not meet early stopping. Best iteration is:\n",
      "[400]\tvalid_0's rmse: 0.0456597\n"
     ]
    }
   ],
   "source": [
    "import lightgbm as lgb \n",
    "\n",
    "lgb_params = {\"objective\" : \"regression\", \"metric\" : \"rmse\",\n",
    "              \"num_leaves\" : 50, \"learning_rate\" : 0.02, \n",
    "              \"bagging_fraction\" : 0.75, \"feature_fraction\" : 0.8, \"bagging_frequency\" : 9}\n",
    "    \n",
    "lgb_train = lgb.Dataset(train_x, label=train_y)\n",
    "lgb_val = lgb.Dataset(valid_x, label=valid_y)\n",
    "model = lgb.train(lgb_params, lgb_train, 400, valid_sets=[lgb_val], early_stopping_rounds=150, verbose_eval=20)"
   ]
  },
  {
   "cell_type": "code",
   "execution_count": 92,
   "metadata": {},
   "outputs": [
    {
     "data": {
      "text/html": [
       "<div>\n",
       "<style scoped>\n",
       "    .dataframe tbody tr th:only-of-type {\n",
       "        vertical-align: middle;\n",
       "    }\n",
       "\n",
       "    .dataframe tbody tr th {\n",
       "        vertical-align: top;\n",
       "    }\n",
       "\n",
       "    .dataframe thead th {\n",
       "        text-align: right;\n",
       "    }\n",
       "</style>\n",
       "<table border=\"1\" class=\"dataframe\">\n",
       "  <thead>\n",
       "    <tr style=\"text-align: right;\">\n",
       "      <th></th>\n",
       "      <th>fullVisitorId</th>\n",
       "      <th>PredictedLogRevenue</th>\n",
       "    </tr>\n",
       "  </thead>\n",
       "  <tbody>\n",
       "    <tr>\n",
       "      <th>0</th>\n",
       "      <td>0000085059828173212</td>\n",
       "      <td>0.000112</td>\n",
       "    </tr>\n",
       "    <tr>\n",
       "      <th>1</th>\n",
       "      <td>0000436683523507380</td>\n",
       "      <td>0.000000</td>\n",
       "    </tr>\n",
       "    <tr>\n",
       "      <th>2</th>\n",
       "      <td>000170187170673177</td>\n",
       "      <td>0.000112</td>\n",
       "    </tr>\n",
       "    <tr>\n",
       "      <th>3</th>\n",
       "      <td>0001726271671346816</td>\n",
       "      <td>0.000112</td>\n",
       "    </tr>\n",
       "    <tr>\n",
       "      <th>4</th>\n",
       "      <td>0002457163364254438</td>\n",
       "      <td>0.002660</td>\n",
       "    </tr>\n",
       "  </tbody>\n",
       "</table>\n",
       "</div>"
      ],
      "text/plain": [
       "         fullVisitorId  PredictedLogRevenue\n",
       "0  0000085059828173212             0.000112\n",
       "1  0000436683523507380             0.000000\n",
       "2   000170187170673177             0.000112\n",
       "3  0001726271671346816             0.000112\n",
       "4  0002457163364254438             0.002660"
      ]
     },
     "execution_count": 92,
     "metadata": {},
     "output_type": "execute_result"
    }
   ],
   "source": [
    "preds = model.predict(test[features], num_iteration=model.best_iteration)\n",
    "test[\"PredictedLogRevenue\"] = np.expm1(preds)\n",
    "submission = test.groupby(\"fullVisitorId\").agg({\"PredictedLogRevenue\" : \"sum\"}).reset_index()\n",
    "submission[\"PredictedLogRevenue\"] = np.log1p(submission[\"PredictedLogRevenue\"])\n",
    "submission[\"PredictedLogRevenue\"] =  submission[\"PredictedLogRevenue\"].apply(lambda x : 0.0 if x < 0 else x)\n",
    "submission.to_csv(\"baseline.csv\", index=False)\n",
    "submission.head()"
   ]
  },
  {
   "cell_type": "code",
   "execution_count": null,
   "metadata": {},
   "outputs": [],
   "source": []
  }
 ],
 "metadata": {
  "kernelspec": {
   "display_name": "Python 3",
   "language": "python",
   "name": "python3"
  },
  "language_info": {
   "codemirror_mode": {
    "name": "ipython",
    "version": 3
   },
   "file_extension": ".py",
   "mimetype": "text/x-python",
   "name": "python",
   "nbconvert_exporter": "python",
   "pygments_lexer": "ipython3",
   "version": "3.6.8"
  }
 },
 "nbformat": 4,
 "nbformat_minor": 2
}
